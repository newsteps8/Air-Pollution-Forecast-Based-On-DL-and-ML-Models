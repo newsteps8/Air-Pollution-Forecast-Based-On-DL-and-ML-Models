{
 "cells": [
  {
   "cell_type": "markdown",
   "id": "0b2e0da7-c9e7-45c7-8de7-9230102e091e",
   "metadata": {},
   "source": [
    "**Data loading and Preprocessing**\n"
   ]
  },
  {
   "cell_type": "code",
   "execution_count": 78,
   "id": "205f2cab-d0c1-4594-ac68-966328a17335",
   "metadata": {},
   "outputs": [
    {
     "data": {
      "text/html": [
       "<div>\n",
       "<style scoped>\n",
       "    .dataframe tbody tr th:only-of-type {\n",
       "        vertical-align: middle;\n",
       "    }\n",
       "\n",
       "    .dataframe tbody tr th {\n",
       "        vertical-align: top;\n",
       "    }\n",
       "\n",
       "    .dataframe thead th {\n",
       "        text-align: right;\n",
       "    }\n",
       "</style>\n",
       "<table border=\"1\" class=\"dataframe\">\n",
       "  <thead>\n",
       "    <tr style=\"text-align: right;\">\n",
       "      <th></th>\n",
       "      <th>No</th>\n",
       "      <th>year</th>\n",
       "      <th>month</th>\n",
       "      <th>day</th>\n",
       "      <th>hour</th>\n",
       "      <th>pm2.5</th>\n",
       "      <th>DEWP</th>\n",
       "      <th>TEMP</th>\n",
       "      <th>PRES</th>\n",
       "      <th>cbwd</th>\n",
       "      <th>Iws</th>\n",
       "      <th>Is</th>\n",
       "      <th>Ir</th>\n",
       "    </tr>\n",
       "  </thead>\n",
       "  <tbody>\n",
       "    <tr>\n",
       "      <th>0</th>\n",
       "      <td>1</td>\n",
       "      <td>2010</td>\n",
       "      <td>1</td>\n",
       "      <td>1</td>\n",
       "      <td>0</td>\n",
       "      <td>NaN</td>\n",
       "      <td>-21</td>\n",
       "      <td>-11.0</td>\n",
       "      <td>1021.0</td>\n",
       "      <td>NW</td>\n",
       "      <td>1.79</td>\n",
       "      <td>0</td>\n",
       "      <td>0</td>\n",
       "    </tr>\n",
       "    <tr>\n",
       "      <th>1</th>\n",
       "      <td>2</td>\n",
       "      <td>2010</td>\n",
       "      <td>1</td>\n",
       "      <td>1</td>\n",
       "      <td>1</td>\n",
       "      <td>NaN</td>\n",
       "      <td>-21</td>\n",
       "      <td>-12.0</td>\n",
       "      <td>1020.0</td>\n",
       "      <td>NW</td>\n",
       "      <td>4.92</td>\n",
       "      <td>0</td>\n",
       "      <td>0</td>\n",
       "    </tr>\n",
       "    <tr>\n",
       "      <th>2</th>\n",
       "      <td>3</td>\n",
       "      <td>2010</td>\n",
       "      <td>1</td>\n",
       "      <td>1</td>\n",
       "      <td>2</td>\n",
       "      <td>NaN</td>\n",
       "      <td>-21</td>\n",
       "      <td>-11.0</td>\n",
       "      <td>1019.0</td>\n",
       "      <td>NW</td>\n",
       "      <td>6.71</td>\n",
       "      <td>0</td>\n",
       "      <td>0</td>\n",
       "    </tr>\n",
       "    <tr>\n",
       "      <th>3</th>\n",
       "      <td>4</td>\n",
       "      <td>2010</td>\n",
       "      <td>1</td>\n",
       "      <td>1</td>\n",
       "      <td>3</td>\n",
       "      <td>NaN</td>\n",
       "      <td>-21</td>\n",
       "      <td>-14.0</td>\n",
       "      <td>1019.0</td>\n",
       "      <td>NW</td>\n",
       "      <td>9.84</td>\n",
       "      <td>0</td>\n",
       "      <td>0</td>\n",
       "    </tr>\n",
       "    <tr>\n",
       "      <th>4</th>\n",
       "      <td>5</td>\n",
       "      <td>2010</td>\n",
       "      <td>1</td>\n",
       "      <td>1</td>\n",
       "      <td>4</td>\n",
       "      <td>NaN</td>\n",
       "      <td>-20</td>\n",
       "      <td>-12.0</td>\n",
       "      <td>1018.0</td>\n",
       "      <td>NW</td>\n",
       "      <td>12.97</td>\n",
       "      <td>0</td>\n",
       "      <td>0</td>\n",
       "    </tr>\n",
       "  </tbody>\n",
       "</table>\n",
       "</div>"
      ],
      "text/plain": [
       "   No  year  month  day  hour  pm2.5  DEWP  TEMP    PRES cbwd    Iws  Is  Ir\n",
       "0   1  2010      1    1     0    NaN   -21 -11.0  1021.0   NW   1.79   0   0\n",
       "1   2  2010      1    1     1    NaN   -21 -12.0  1020.0   NW   4.92   0   0\n",
       "2   3  2010      1    1     2    NaN   -21 -11.0  1019.0   NW   6.71   0   0\n",
       "3   4  2010      1    1     3    NaN   -21 -14.0  1019.0   NW   9.84   0   0\n",
       "4   5  2010      1    1     4    NaN   -20 -12.0  1018.0   NW  12.97   0   0"
      ]
     },
     "execution_count": 78,
     "metadata": {},
     "output_type": "execute_result"
    }
   ],
   "source": [
    "# load data\n",
    "import pandas as pd\n",
    "\n",
    "df = pd.read_csv(\"Downloads/pollution.csv\")\n",
    "df.head()"
   ]
  },
  {
   "cell_type": "code",
   "execution_count": 240,
   "id": "ba42199a-00e1-4db2-9b41-65b91dd8eb39",
   "metadata": {},
   "outputs": [
    {
     "data": {
      "text/html": [
       "<div>\n",
       "<style scoped>\n",
       "    .dataframe tbody tr th:only-of-type {\n",
       "        vertical-align: middle;\n",
       "    }\n",
       "\n",
       "    .dataframe tbody tr th {\n",
       "        vertical-align: top;\n",
       "    }\n",
       "\n",
       "    .dataframe thead th {\n",
       "        text-align: right;\n",
       "    }\n",
       "</style>\n",
       "<table border=\"1\" class=\"dataframe\">\n",
       "  <thead>\n",
       "    <tr style=\"text-align: right;\">\n",
       "      <th></th>\n",
       "      <th>month</th>\n",
       "      <th>pm2.5</th>\n",
       "      <th>DEWP</th>\n",
       "      <th>TEMP</th>\n",
       "      <th>PRES</th>\n",
       "      <th>Iws</th>\n",
       "      <th>Is</th>\n",
       "      <th>Ir</th>\n",
       "    </tr>\n",
       "  </thead>\n",
       "  <tbody>\n",
       "    <tr>\n",
       "      <th>count</th>\n",
       "      <td>43824.000000</td>\n",
       "      <td>41757.000000</td>\n",
       "      <td>43824.000000</td>\n",
       "      <td>43824.000000</td>\n",
       "      <td>43824.000000</td>\n",
       "      <td>43824.000000</td>\n",
       "      <td>43824.000000</td>\n",
       "      <td>43824.000000</td>\n",
       "    </tr>\n",
       "    <tr>\n",
       "      <th>mean</th>\n",
       "      <td>6.523549</td>\n",
       "      <td>98.613215</td>\n",
       "      <td>1.817246</td>\n",
       "      <td>12.448521</td>\n",
       "      <td>1016.447654</td>\n",
       "      <td>23.889140</td>\n",
       "      <td>0.052734</td>\n",
       "      <td>0.194916</td>\n",
       "    </tr>\n",
       "    <tr>\n",
       "      <th>std</th>\n",
       "      <td>3.448572</td>\n",
       "      <td>92.050387</td>\n",
       "      <td>14.433440</td>\n",
       "      <td>12.198613</td>\n",
       "      <td>10.268698</td>\n",
       "      <td>50.010635</td>\n",
       "      <td>0.760375</td>\n",
       "      <td>1.415867</td>\n",
       "    </tr>\n",
       "    <tr>\n",
       "      <th>min</th>\n",
       "      <td>1.000000</td>\n",
       "      <td>0.000000</td>\n",
       "      <td>-40.000000</td>\n",
       "      <td>-19.000000</td>\n",
       "      <td>991.000000</td>\n",
       "      <td>0.450000</td>\n",
       "      <td>0.000000</td>\n",
       "      <td>0.000000</td>\n",
       "    </tr>\n",
       "    <tr>\n",
       "      <th>25%</th>\n",
       "      <td>4.000000</td>\n",
       "      <td>29.000000</td>\n",
       "      <td>-10.000000</td>\n",
       "      <td>2.000000</td>\n",
       "      <td>1008.000000</td>\n",
       "      <td>1.790000</td>\n",
       "      <td>0.000000</td>\n",
       "      <td>0.000000</td>\n",
       "    </tr>\n",
       "    <tr>\n",
       "      <th>50%</th>\n",
       "      <td>7.000000</td>\n",
       "      <td>72.000000</td>\n",
       "      <td>2.000000</td>\n",
       "      <td>14.000000</td>\n",
       "      <td>1016.000000</td>\n",
       "      <td>5.370000</td>\n",
       "      <td>0.000000</td>\n",
       "      <td>0.000000</td>\n",
       "    </tr>\n",
       "    <tr>\n",
       "      <th>75%</th>\n",
       "      <td>10.000000</td>\n",
       "      <td>137.000000</td>\n",
       "      <td>15.000000</td>\n",
       "      <td>23.000000</td>\n",
       "      <td>1025.000000</td>\n",
       "      <td>21.910000</td>\n",
       "      <td>0.000000</td>\n",
       "      <td>0.000000</td>\n",
       "    </tr>\n",
       "    <tr>\n",
       "      <th>max</th>\n",
       "      <td>12.000000</td>\n",
       "      <td>994.000000</td>\n",
       "      <td>28.000000</td>\n",
       "      <td>42.000000</td>\n",
       "      <td>1046.000000</td>\n",
       "      <td>585.600000</td>\n",
       "      <td>27.000000</td>\n",
       "      <td>36.000000</td>\n",
       "    </tr>\n",
       "  </tbody>\n",
       "</table>\n",
       "</div>"
      ],
      "text/plain": [
       "              month         pm2.5          DEWP          TEMP          PRES  \\\n",
       "count  43824.000000  41757.000000  43824.000000  43824.000000  43824.000000   \n",
       "mean       6.523549     98.613215      1.817246     12.448521   1016.447654   \n",
       "std        3.448572     92.050387     14.433440     12.198613     10.268698   \n",
       "min        1.000000      0.000000    -40.000000    -19.000000    991.000000   \n",
       "25%        4.000000     29.000000    -10.000000      2.000000   1008.000000   \n",
       "50%        7.000000     72.000000      2.000000     14.000000   1016.000000   \n",
       "75%       10.000000    137.000000     15.000000     23.000000   1025.000000   \n",
       "max       12.000000    994.000000     28.000000     42.000000   1046.000000   \n",
       "\n",
       "                Iws            Is            Ir  \n",
       "count  43824.000000  43824.000000  43824.000000  \n",
       "mean      23.889140      0.052734      0.194916  \n",
       "std       50.010635      0.760375      1.415867  \n",
       "min        0.450000      0.000000      0.000000  \n",
       "25%        1.790000      0.000000      0.000000  \n",
       "50%        5.370000      0.000000      0.000000  \n",
       "75%       21.910000      0.000000      0.000000  \n",
       "max      585.600000     27.000000     36.000000  "
      ]
     },
     "execution_count": 240,
     "metadata": {},
     "output_type": "execute_result"
    }
   ],
   "source": [
    "df.describe()"
   ]
  },
  {
   "cell_type": "code",
   "execution_count": 80,
   "id": "bb5704b7-e3aa-4f59-b1fd-e03ba9f03df8",
   "metadata": {},
   "outputs": [],
   "source": [
    "df['date']=pd.to_datetime(df[['year', 'month', 'day']])"
   ]
  },
  {
   "cell_type": "code",
   "execution_count": 81,
   "id": "db411ff5-664e-487d-9d92-da574d95d2da",
   "metadata": {},
   "outputs": [
    {
     "data": {
      "text/html": [
       "<div>\n",
       "<style scoped>\n",
       "    .dataframe tbody tr th:only-of-type {\n",
       "        vertical-align: middle;\n",
       "    }\n",
       "\n",
       "    .dataframe tbody tr th {\n",
       "        vertical-align: top;\n",
       "    }\n",
       "\n",
       "    .dataframe thead th {\n",
       "        text-align: right;\n",
       "    }\n",
       "</style>\n",
       "<table border=\"1\" class=\"dataframe\">\n",
       "  <thead>\n",
       "    <tr style=\"text-align: right;\">\n",
       "      <th></th>\n",
       "      <th>No</th>\n",
       "      <th>year</th>\n",
       "      <th>month</th>\n",
       "      <th>day</th>\n",
       "      <th>hour</th>\n",
       "      <th>pm2.5</th>\n",
       "      <th>DEWP</th>\n",
       "      <th>TEMP</th>\n",
       "      <th>PRES</th>\n",
       "      <th>cbwd</th>\n",
       "      <th>Iws</th>\n",
       "      <th>Is</th>\n",
       "      <th>Ir</th>\n",
       "      <th>date</th>\n",
       "    </tr>\n",
       "  </thead>\n",
       "  <tbody>\n",
       "    <tr>\n",
       "      <th>0</th>\n",
       "      <td>1</td>\n",
       "      <td>2010</td>\n",
       "      <td>1</td>\n",
       "      <td>1</td>\n",
       "      <td>0</td>\n",
       "      <td>NaN</td>\n",
       "      <td>-21</td>\n",
       "      <td>-11.0</td>\n",
       "      <td>1021.0</td>\n",
       "      <td>NW</td>\n",
       "      <td>1.79</td>\n",
       "      <td>0</td>\n",
       "      <td>0</td>\n",
       "      <td>2010-01-01</td>\n",
       "    </tr>\n",
       "    <tr>\n",
       "      <th>1</th>\n",
       "      <td>2</td>\n",
       "      <td>2010</td>\n",
       "      <td>1</td>\n",
       "      <td>1</td>\n",
       "      <td>1</td>\n",
       "      <td>NaN</td>\n",
       "      <td>-21</td>\n",
       "      <td>-12.0</td>\n",
       "      <td>1020.0</td>\n",
       "      <td>NW</td>\n",
       "      <td>4.92</td>\n",
       "      <td>0</td>\n",
       "      <td>0</td>\n",
       "      <td>2010-01-01</td>\n",
       "    </tr>\n",
       "    <tr>\n",
       "      <th>2</th>\n",
       "      <td>3</td>\n",
       "      <td>2010</td>\n",
       "      <td>1</td>\n",
       "      <td>1</td>\n",
       "      <td>2</td>\n",
       "      <td>NaN</td>\n",
       "      <td>-21</td>\n",
       "      <td>-11.0</td>\n",
       "      <td>1019.0</td>\n",
       "      <td>NW</td>\n",
       "      <td>6.71</td>\n",
       "      <td>0</td>\n",
       "      <td>0</td>\n",
       "      <td>2010-01-01</td>\n",
       "    </tr>\n",
       "    <tr>\n",
       "      <th>3</th>\n",
       "      <td>4</td>\n",
       "      <td>2010</td>\n",
       "      <td>1</td>\n",
       "      <td>1</td>\n",
       "      <td>3</td>\n",
       "      <td>NaN</td>\n",
       "      <td>-21</td>\n",
       "      <td>-14.0</td>\n",
       "      <td>1019.0</td>\n",
       "      <td>NW</td>\n",
       "      <td>9.84</td>\n",
       "      <td>0</td>\n",
       "      <td>0</td>\n",
       "      <td>2010-01-01</td>\n",
       "    </tr>\n",
       "    <tr>\n",
       "      <th>4</th>\n",
       "      <td>5</td>\n",
       "      <td>2010</td>\n",
       "      <td>1</td>\n",
       "      <td>1</td>\n",
       "      <td>4</td>\n",
       "      <td>NaN</td>\n",
       "      <td>-20</td>\n",
       "      <td>-12.0</td>\n",
       "      <td>1018.0</td>\n",
       "      <td>NW</td>\n",
       "      <td>12.97</td>\n",
       "      <td>0</td>\n",
       "      <td>0</td>\n",
       "      <td>2010-01-01</td>\n",
       "    </tr>\n",
       "  </tbody>\n",
       "</table>\n",
       "</div>"
      ],
      "text/plain": [
       "   No  year  month  day  hour  pm2.5  DEWP  TEMP    PRES cbwd    Iws  Is  Ir  \\\n",
       "0   1  2010      1    1     0    NaN   -21 -11.0  1021.0   NW   1.79   0   0   \n",
       "1   2  2010      1    1     1    NaN   -21 -12.0  1020.0   NW   4.92   0   0   \n",
       "2   3  2010      1    1     2    NaN   -21 -11.0  1019.0   NW   6.71   0   0   \n",
       "3   4  2010      1    1     3    NaN   -21 -14.0  1019.0   NW   9.84   0   0   \n",
       "4   5  2010      1    1     4    NaN   -20 -12.0  1018.0   NW  12.97   0   0   \n",
       "\n",
       "        date  \n",
       "0 2010-01-01  \n",
       "1 2010-01-01  \n",
       "2 2010-01-01  \n",
       "3 2010-01-01  \n",
       "4 2010-01-01  "
      ]
     },
     "execution_count": 81,
     "metadata": {},
     "output_type": "execute_result"
    }
   ],
   "source": [
    "df.head()"
   ]
  },
  {
   "cell_type": "code",
   "execution_count": 82,
   "id": "43dd3473-eb8c-4ec3-a3fe-0bd68b65c9fe",
   "metadata": {},
   "outputs": [
    {
     "data": {
      "text/plain": [
       "43824"
      ]
     },
     "execution_count": 82,
     "metadata": {},
     "output_type": "execute_result"
    }
   ],
   "source": [
    "len(df)"
   ]
  },
  {
   "cell_type": "code",
   "execution_count": 83,
   "id": "4fb8d44d-0102-4fd5-b298-c2029821b2a1",
   "metadata": {},
   "outputs": [
    {
     "data": {
      "text/html": [
       "<div>\n",
       "<style scoped>\n",
       "    .dataframe tbody tr th:only-of-type {\n",
       "        vertical-align: middle;\n",
       "    }\n",
       "\n",
       "    .dataframe tbody tr th {\n",
       "        vertical-align: top;\n",
       "    }\n",
       "\n",
       "    .dataframe thead th {\n",
       "        text-align: right;\n",
       "    }\n",
       "</style>\n",
       "<table border=\"1\" class=\"dataframe\">\n",
       "  <thead>\n",
       "    <tr style=\"text-align: right;\">\n",
       "      <th></th>\n",
       "      <th>No</th>\n",
       "      <th>year</th>\n",
       "      <th>month</th>\n",
       "      <th>day</th>\n",
       "      <th>hour</th>\n",
       "      <th>pm2.5</th>\n",
       "      <th>DEWP</th>\n",
       "      <th>TEMP</th>\n",
       "      <th>PRES</th>\n",
       "      <th>cbwd</th>\n",
       "      <th>Iws</th>\n",
       "      <th>Is</th>\n",
       "      <th>Ir</th>\n",
       "      <th>date</th>\n",
       "    </tr>\n",
       "  </thead>\n",
       "  <tbody>\n",
       "    <tr>\n",
       "      <th>43819</th>\n",
       "      <td>43820</td>\n",
       "      <td>2014</td>\n",
       "      <td>12</td>\n",
       "      <td>31</td>\n",
       "      <td>19</td>\n",
       "      <td>8.0</td>\n",
       "      <td>-23</td>\n",
       "      <td>-2.0</td>\n",
       "      <td>1034.0</td>\n",
       "      <td>NW</td>\n",
       "      <td>231.97</td>\n",
       "      <td>0</td>\n",
       "      <td>0</td>\n",
       "      <td>2014-12-31</td>\n",
       "    </tr>\n",
       "    <tr>\n",
       "      <th>43820</th>\n",
       "      <td>43821</td>\n",
       "      <td>2014</td>\n",
       "      <td>12</td>\n",
       "      <td>31</td>\n",
       "      <td>20</td>\n",
       "      <td>10.0</td>\n",
       "      <td>-22</td>\n",
       "      <td>-3.0</td>\n",
       "      <td>1034.0</td>\n",
       "      <td>NW</td>\n",
       "      <td>237.78</td>\n",
       "      <td>0</td>\n",
       "      <td>0</td>\n",
       "      <td>2014-12-31</td>\n",
       "    </tr>\n",
       "    <tr>\n",
       "      <th>43821</th>\n",
       "      <td>43822</td>\n",
       "      <td>2014</td>\n",
       "      <td>12</td>\n",
       "      <td>31</td>\n",
       "      <td>21</td>\n",
       "      <td>10.0</td>\n",
       "      <td>-22</td>\n",
       "      <td>-3.0</td>\n",
       "      <td>1034.0</td>\n",
       "      <td>NW</td>\n",
       "      <td>242.70</td>\n",
       "      <td>0</td>\n",
       "      <td>0</td>\n",
       "      <td>2014-12-31</td>\n",
       "    </tr>\n",
       "    <tr>\n",
       "      <th>43822</th>\n",
       "      <td>43823</td>\n",
       "      <td>2014</td>\n",
       "      <td>12</td>\n",
       "      <td>31</td>\n",
       "      <td>22</td>\n",
       "      <td>8.0</td>\n",
       "      <td>-22</td>\n",
       "      <td>-4.0</td>\n",
       "      <td>1034.0</td>\n",
       "      <td>NW</td>\n",
       "      <td>246.72</td>\n",
       "      <td>0</td>\n",
       "      <td>0</td>\n",
       "      <td>2014-12-31</td>\n",
       "    </tr>\n",
       "    <tr>\n",
       "      <th>43823</th>\n",
       "      <td>43824</td>\n",
       "      <td>2014</td>\n",
       "      <td>12</td>\n",
       "      <td>31</td>\n",
       "      <td>23</td>\n",
       "      <td>12.0</td>\n",
       "      <td>-21</td>\n",
       "      <td>-3.0</td>\n",
       "      <td>1034.0</td>\n",
       "      <td>NW</td>\n",
       "      <td>249.85</td>\n",
       "      <td>0</td>\n",
       "      <td>0</td>\n",
       "      <td>2014-12-31</td>\n",
       "    </tr>\n",
       "  </tbody>\n",
       "</table>\n",
       "</div>"
      ],
      "text/plain": [
       "          No  year  month  day  hour  pm2.5  DEWP  TEMP    PRES cbwd     Iws  \\\n",
       "43819  43820  2014     12   31    19    8.0   -23  -2.0  1034.0   NW  231.97   \n",
       "43820  43821  2014     12   31    20   10.0   -22  -3.0  1034.0   NW  237.78   \n",
       "43821  43822  2014     12   31    21   10.0   -22  -3.0  1034.0   NW  242.70   \n",
       "43822  43823  2014     12   31    22    8.0   -22  -4.0  1034.0   NW  246.72   \n",
       "43823  43824  2014     12   31    23   12.0   -21  -3.0  1034.0   NW  249.85   \n",
       "\n",
       "       Is  Ir       date  \n",
       "43819   0   0 2014-12-31  \n",
       "43820   0   0 2014-12-31  \n",
       "43821   0   0 2014-12-31  \n",
       "43822   0   0 2014-12-31  \n",
       "43823   0   0 2014-12-31  "
      ]
     },
     "execution_count": 83,
     "metadata": {},
     "output_type": "execute_result"
    }
   ],
   "source": [
    "df.tail()"
   ]
  },
  {
   "cell_type": "code",
   "execution_count": 84,
   "id": "3d6aff0b-79a8-4eed-ba4c-e81ac492d96f",
   "metadata": {},
   "outputs": [
    {
     "name": "stdout",
     "output_type": "stream",
     "text": [
      "<class 'pandas.core.frame.DataFrame'>\n",
      "RangeIndex: 43824 entries, 0 to 43823\n",
      "Data columns (total 14 columns):\n",
      " #   Column  Non-Null Count  Dtype         \n",
      "---  ------  --------------  -----         \n",
      " 0   No      43824 non-null  int64         \n",
      " 1   year    43824 non-null  int64         \n",
      " 2   month   43824 non-null  int64         \n",
      " 3   day     43824 non-null  int64         \n",
      " 4   hour    43824 non-null  int64         \n",
      " 5   pm2.5   41757 non-null  float64       \n",
      " 6   DEWP    43824 non-null  int64         \n",
      " 7   TEMP    43824 non-null  float64       \n",
      " 8   PRES    43824 non-null  float64       \n",
      " 9   cbwd    43824 non-null  object        \n",
      " 10  Iws     43824 non-null  float64       \n",
      " 11  Is      43824 non-null  int64         \n",
      " 12  Ir      43824 non-null  int64         \n",
      " 13  date    43824 non-null  datetime64[ns]\n",
      "dtypes: datetime64[ns](1), float64(4), int64(8), object(1)\n",
      "memory usage: 4.7+ MB\n"
     ]
    }
   ],
   "source": [
    "# check data info\n",
    "df.info()"
   ]
  },
  {
   "cell_type": "markdown",
   "id": "3c4d2883-339f-4ff5-8c99-dae40d507be5",
   "metadata": {},
   "source": [
    "pm2.5 column contains null value, So we can use pandas DateTimeIndex function with start date-time as 2010-01-01 00:00:00 and end date-time as 2014-12-31 23:00:00. As our dataset contains hourly data so we can use freq as 'H' which stands for Hour.\n",
    "\n"
   ]
  },
  {
   "cell_type": "code",
   "execution_count": 85,
   "id": "d1005ad4-51b8-442a-bce5-96184bba65e2",
   "metadata": {},
   "outputs": [],
   "source": [
    "# creating Date-Time index column\n",
    "df['Date-Time'] = pd.date_range(start='2010-01-01 00:00:00', end='2014-12-31 23:00:00', freq='H')\n",
    "# setting index as Date-Time\n",
    "df.set_index('Date-Time', drop = True, inplace = True)"
   ]
  },
  {
   "cell_type": "code",
   "execution_count": 86,
   "id": "1787b2a3-680d-4613-a068-f41d8ac06d0a",
   "metadata": {},
   "outputs": [
    {
     "data": {
      "text/html": [
       "<div>\n",
       "<style scoped>\n",
       "    .dataframe tbody tr th:only-of-type {\n",
       "        vertical-align: middle;\n",
       "    }\n",
       "\n",
       "    .dataframe tbody tr th {\n",
       "        vertical-align: top;\n",
       "    }\n",
       "\n",
       "    .dataframe thead th {\n",
       "        text-align: right;\n",
       "    }\n",
       "</style>\n",
       "<table border=\"1\" class=\"dataframe\">\n",
       "  <thead>\n",
       "    <tr style=\"text-align: right;\">\n",
       "      <th></th>\n",
       "      <th>No</th>\n",
       "      <th>year</th>\n",
       "      <th>month</th>\n",
       "      <th>day</th>\n",
       "      <th>hour</th>\n",
       "      <th>pm2.5</th>\n",
       "      <th>DEWP</th>\n",
       "      <th>TEMP</th>\n",
       "      <th>PRES</th>\n",
       "      <th>cbwd</th>\n",
       "      <th>Iws</th>\n",
       "      <th>Is</th>\n",
       "      <th>Ir</th>\n",
       "      <th>date</th>\n",
       "    </tr>\n",
       "    <tr>\n",
       "      <th>Date-Time</th>\n",
       "      <th></th>\n",
       "      <th></th>\n",
       "      <th></th>\n",
       "      <th></th>\n",
       "      <th></th>\n",
       "      <th></th>\n",
       "      <th></th>\n",
       "      <th></th>\n",
       "      <th></th>\n",
       "      <th></th>\n",
       "      <th></th>\n",
       "      <th></th>\n",
       "      <th></th>\n",
       "      <th></th>\n",
       "    </tr>\n",
       "  </thead>\n",
       "  <tbody>\n",
       "    <tr>\n",
       "      <th>2010-01-01 00:00:00</th>\n",
       "      <td>1</td>\n",
       "      <td>2010</td>\n",
       "      <td>1</td>\n",
       "      <td>1</td>\n",
       "      <td>0</td>\n",
       "      <td>NaN</td>\n",
       "      <td>-21</td>\n",
       "      <td>-11.0</td>\n",
       "      <td>1021.0</td>\n",
       "      <td>NW</td>\n",
       "      <td>1.79</td>\n",
       "      <td>0</td>\n",
       "      <td>0</td>\n",
       "      <td>2010-01-01</td>\n",
       "    </tr>\n",
       "    <tr>\n",
       "      <th>2010-01-01 01:00:00</th>\n",
       "      <td>2</td>\n",
       "      <td>2010</td>\n",
       "      <td>1</td>\n",
       "      <td>1</td>\n",
       "      <td>1</td>\n",
       "      <td>NaN</td>\n",
       "      <td>-21</td>\n",
       "      <td>-12.0</td>\n",
       "      <td>1020.0</td>\n",
       "      <td>NW</td>\n",
       "      <td>4.92</td>\n",
       "      <td>0</td>\n",
       "      <td>0</td>\n",
       "      <td>2010-01-01</td>\n",
       "    </tr>\n",
       "    <tr>\n",
       "      <th>2010-01-01 02:00:00</th>\n",
       "      <td>3</td>\n",
       "      <td>2010</td>\n",
       "      <td>1</td>\n",
       "      <td>1</td>\n",
       "      <td>2</td>\n",
       "      <td>NaN</td>\n",
       "      <td>-21</td>\n",
       "      <td>-11.0</td>\n",
       "      <td>1019.0</td>\n",
       "      <td>NW</td>\n",
       "      <td>6.71</td>\n",
       "      <td>0</td>\n",
       "      <td>0</td>\n",
       "      <td>2010-01-01</td>\n",
       "    </tr>\n",
       "    <tr>\n",
       "      <th>2010-01-01 03:00:00</th>\n",
       "      <td>4</td>\n",
       "      <td>2010</td>\n",
       "      <td>1</td>\n",
       "      <td>1</td>\n",
       "      <td>3</td>\n",
       "      <td>NaN</td>\n",
       "      <td>-21</td>\n",
       "      <td>-14.0</td>\n",
       "      <td>1019.0</td>\n",
       "      <td>NW</td>\n",
       "      <td>9.84</td>\n",
       "      <td>0</td>\n",
       "      <td>0</td>\n",
       "      <td>2010-01-01</td>\n",
       "    </tr>\n",
       "    <tr>\n",
       "      <th>2010-01-01 04:00:00</th>\n",
       "      <td>5</td>\n",
       "      <td>2010</td>\n",
       "      <td>1</td>\n",
       "      <td>1</td>\n",
       "      <td>4</td>\n",
       "      <td>NaN</td>\n",
       "      <td>-20</td>\n",
       "      <td>-12.0</td>\n",
       "      <td>1018.0</td>\n",
       "      <td>NW</td>\n",
       "      <td>12.97</td>\n",
       "      <td>0</td>\n",
       "      <td>0</td>\n",
       "      <td>2010-01-01</td>\n",
       "    </tr>\n",
       "  </tbody>\n",
       "</table>\n",
       "</div>"
      ],
      "text/plain": [
       "                     No  year  month  day  hour  pm2.5  DEWP  TEMP    PRES  \\\n",
       "Date-Time                                                                    \n",
       "2010-01-01 00:00:00   1  2010      1    1     0    NaN   -21 -11.0  1021.0   \n",
       "2010-01-01 01:00:00   2  2010      1    1     1    NaN   -21 -12.0  1020.0   \n",
       "2010-01-01 02:00:00   3  2010      1    1     2    NaN   -21 -11.0  1019.0   \n",
       "2010-01-01 03:00:00   4  2010      1    1     3    NaN   -21 -14.0  1019.0   \n",
       "2010-01-01 04:00:00   5  2010      1    1     4    NaN   -20 -12.0  1018.0   \n",
       "\n",
       "                    cbwd    Iws  Is  Ir       date  \n",
       "Date-Time                                           \n",
       "2010-01-01 00:00:00   NW   1.79   0   0 2010-01-01  \n",
       "2010-01-01 01:00:00   NW   4.92   0   0 2010-01-01  \n",
       "2010-01-01 02:00:00   NW   6.71   0   0 2010-01-01  \n",
       "2010-01-01 03:00:00   NW   9.84   0   0 2010-01-01  \n",
       "2010-01-01 04:00:00   NW  12.97   0   0 2010-01-01  "
      ]
     },
     "execution_count": 86,
     "metadata": {},
     "output_type": "execute_result"
    }
   ],
   "source": [
    "df.head()"
   ]
  },
  {
   "cell_type": "code",
   "execution_count": null,
   "id": "1944aa73-3ee8-4f4f-9070-887b4c8c0815",
   "metadata": {},
   "outputs": [],
   "source": [
    "#drop some data column\n",
    "df.drop('No', inplace=True, axis=1)\n",
    "df.drop('year', inplace=True, axis=1)\n",
    "df.drop('day', inplace=True, axis=1)\n",
    "df.drop('hour', inplace=True, axis=1)"
   ]
  },
  {
   "cell_type": "code",
   "execution_count": 88,
   "id": "718a91a8-bffa-48ff-abd5-b2cc1a796c73",
   "metadata": {},
   "outputs": [
    {
     "data": {
      "text/html": [
       "<div>\n",
       "<style scoped>\n",
       "    .dataframe tbody tr th:only-of-type {\n",
       "        vertical-align: middle;\n",
       "    }\n",
       "\n",
       "    .dataframe tbody tr th {\n",
       "        vertical-align: top;\n",
       "    }\n",
       "\n",
       "    .dataframe thead th {\n",
       "        text-align: right;\n",
       "    }\n",
       "</style>\n",
       "<table border=\"1\" class=\"dataframe\">\n",
       "  <thead>\n",
       "    <tr style=\"text-align: right;\">\n",
       "      <th></th>\n",
       "      <th>month</th>\n",
       "      <th>pm2.5</th>\n",
       "      <th>DEWP</th>\n",
       "      <th>TEMP</th>\n",
       "      <th>PRES</th>\n",
       "      <th>cbwd</th>\n",
       "      <th>Iws</th>\n",
       "      <th>Is</th>\n",
       "      <th>Ir</th>\n",
       "      <th>date</th>\n",
       "    </tr>\n",
       "    <tr>\n",
       "      <th>Date-Time</th>\n",
       "      <th></th>\n",
       "      <th></th>\n",
       "      <th></th>\n",
       "      <th></th>\n",
       "      <th></th>\n",
       "      <th></th>\n",
       "      <th></th>\n",
       "      <th></th>\n",
       "      <th></th>\n",
       "      <th></th>\n",
       "    </tr>\n",
       "  </thead>\n",
       "  <tbody>\n",
       "    <tr>\n",
       "      <th>2010-01-01 00:00:00</th>\n",
       "      <td>1</td>\n",
       "      <td>NaN</td>\n",
       "      <td>-21</td>\n",
       "      <td>-11.0</td>\n",
       "      <td>1021.0</td>\n",
       "      <td>NW</td>\n",
       "      <td>1.79</td>\n",
       "      <td>0</td>\n",
       "      <td>0</td>\n",
       "      <td>2010-01-01</td>\n",
       "    </tr>\n",
       "    <tr>\n",
       "      <th>2010-01-01 01:00:00</th>\n",
       "      <td>1</td>\n",
       "      <td>NaN</td>\n",
       "      <td>-21</td>\n",
       "      <td>-12.0</td>\n",
       "      <td>1020.0</td>\n",
       "      <td>NW</td>\n",
       "      <td>4.92</td>\n",
       "      <td>0</td>\n",
       "      <td>0</td>\n",
       "      <td>2010-01-01</td>\n",
       "    </tr>\n",
       "    <tr>\n",
       "      <th>2010-01-01 02:00:00</th>\n",
       "      <td>1</td>\n",
       "      <td>NaN</td>\n",
       "      <td>-21</td>\n",
       "      <td>-11.0</td>\n",
       "      <td>1019.0</td>\n",
       "      <td>NW</td>\n",
       "      <td>6.71</td>\n",
       "      <td>0</td>\n",
       "      <td>0</td>\n",
       "      <td>2010-01-01</td>\n",
       "    </tr>\n",
       "    <tr>\n",
       "      <th>2010-01-01 03:00:00</th>\n",
       "      <td>1</td>\n",
       "      <td>NaN</td>\n",
       "      <td>-21</td>\n",
       "      <td>-14.0</td>\n",
       "      <td>1019.0</td>\n",
       "      <td>NW</td>\n",
       "      <td>9.84</td>\n",
       "      <td>0</td>\n",
       "      <td>0</td>\n",
       "      <td>2010-01-01</td>\n",
       "    </tr>\n",
       "    <tr>\n",
       "      <th>2010-01-01 04:00:00</th>\n",
       "      <td>1</td>\n",
       "      <td>NaN</td>\n",
       "      <td>-20</td>\n",
       "      <td>-12.0</td>\n",
       "      <td>1018.0</td>\n",
       "      <td>NW</td>\n",
       "      <td>12.97</td>\n",
       "      <td>0</td>\n",
       "      <td>0</td>\n",
       "      <td>2010-01-01</td>\n",
       "    </tr>\n",
       "  </tbody>\n",
       "</table>\n",
       "</div>"
      ],
      "text/plain": [
       "                     month  pm2.5  DEWP  TEMP    PRES cbwd    Iws  Is  Ir  \\\n",
       "Date-Time                                                                   \n",
       "2010-01-01 00:00:00      1    NaN   -21 -11.0  1021.0   NW   1.79   0   0   \n",
       "2010-01-01 01:00:00      1    NaN   -21 -12.0  1020.0   NW   4.92   0   0   \n",
       "2010-01-01 02:00:00      1    NaN   -21 -11.0  1019.0   NW   6.71   0   0   \n",
       "2010-01-01 03:00:00      1    NaN   -21 -14.0  1019.0   NW   9.84   0   0   \n",
       "2010-01-01 04:00:00      1    NaN   -20 -12.0  1018.0   NW  12.97   0   0   \n",
       "\n",
       "                          date  \n",
       "Date-Time                       \n",
       "2010-01-01 00:00:00 2010-01-01  \n",
       "2010-01-01 01:00:00 2010-01-01  \n",
       "2010-01-01 02:00:00 2010-01-01  \n",
       "2010-01-01 03:00:00 2010-01-01  \n",
       "2010-01-01 04:00:00 2010-01-01  "
      ]
     },
     "execution_count": 88,
     "metadata": {},
     "output_type": "execute_result"
    }
   ],
   "source": [
    "df.head()"
   ]
  },
  {
   "cell_type": "markdown",
   "id": "b2bb1754-52ba-4eb1-94e6-152e1fd69959",
   "metadata": {},
   "source": [
    "**Data Exploratory**"
   ]
  },
  {
   "cell_type": "code",
   "execution_count": 89,
   "id": "171cc9ab-d9f3-4675-b7bb-b9a452246059",
   "metadata": {},
   "outputs": [],
   "source": [
    "import numpy as np\n",
    "import pandas as pd\n",
    "import matplotlib.pyplot as plt"
   ]
  },
  {
   "cell_type": "markdown",
   "id": "c677fd97-60a8-4910-8225-1326d1a12f5c",
   "metadata": {},
   "source": [
    "Correlation between pm2.5 and features"
   ]
  },
  {
   "cell_type": "code",
   "execution_count": 90,
   "id": "a25aaddd-d713-4279-9b00-7d76f17c7a62",
   "metadata": {},
   "outputs": [],
   "source": [
    "# creation of correlation matrix\n",
    "corrM = df.corr()"
   ]
  },
  {
   "cell_type": "code",
   "execution_count": 91,
   "id": "8f71d40b-3a58-4525-b525-fc1329cfa777",
   "metadata": {},
   "outputs": [
    {
     "data": {
      "text/html": [
       "<div>\n",
       "<style scoped>\n",
       "    .dataframe tbody tr th:only-of-type {\n",
       "        vertical-align: middle;\n",
       "    }\n",
       "\n",
       "    .dataframe tbody tr th {\n",
       "        vertical-align: top;\n",
       "    }\n",
       "\n",
       "    .dataframe thead th {\n",
       "        text-align: right;\n",
       "    }\n",
       "</style>\n",
       "<table border=\"1\" class=\"dataframe\">\n",
       "  <thead>\n",
       "    <tr style=\"text-align: right;\">\n",
       "      <th></th>\n",
       "      <th>month</th>\n",
       "      <th>pm2.5</th>\n",
       "      <th>DEWP</th>\n",
       "      <th>TEMP</th>\n",
       "      <th>PRES</th>\n",
       "      <th>Iws</th>\n",
       "      <th>Is</th>\n",
       "      <th>Ir</th>\n",
       "    </tr>\n",
       "  </thead>\n",
       "  <tbody>\n",
       "    <tr>\n",
       "      <th>month</th>\n",
       "      <td>1.000000</td>\n",
       "      <td>-0.024069</td>\n",
       "      <td>0.233975</td>\n",
       "      <td>0.170093</td>\n",
       "      <td>-0.062185</td>\n",
       "      <td>0.003043</td>\n",
       "      <td>-0.061672</td>\n",
       "      <td>0.036737</td>\n",
       "    </tr>\n",
       "    <tr>\n",
       "      <th>pm2.5</th>\n",
       "      <td>-0.024069</td>\n",
       "      <td>1.000000</td>\n",
       "      <td>0.171423</td>\n",
       "      <td>-0.090534</td>\n",
       "      <td>-0.047282</td>\n",
       "      <td>-0.247784</td>\n",
       "      <td>0.019266</td>\n",
       "      <td>-0.051369</td>\n",
       "    </tr>\n",
       "    <tr>\n",
       "      <th>DEWP</th>\n",
       "      <td>0.233975</td>\n",
       "      <td>0.171423</td>\n",
       "      <td>1.000000</td>\n",
       "      <td>0.824633</td>\n",
       "      <td>-0.778346</td>\n",
       "      <td>-0.296399</td>\n",
       "      <td>-0.034410</td>\n",
       "      <td>0.125090</td>\n",
       "    </tr>\n",
       "    <tr>\n",
       "      <th>TEMP</th>\n",
       "      <td>0.170093</td>\n",
       "      <td>-0.090534</td>\n",
       "      <td>0.824633</td>\n",
       "      <td>1.000000</td>\n",
       "      <td>-0.826690</td>\n",
       "      <td>-0.154623</td>\n",
       "      <td>-0.092601</td>\n",
       "      <td>0.049121</td>\n",
       "    </tr>\n",
       "    <tr>\n",
       "      <th>PRES</th>\n",
       "      <td>-0.062185</td>\n",
       "      <td>-0.047282</td>\n",
       "      <td>-0.778346</td>\n",
       "      <td>-0.826690</td>\n",
       "      <td>1.000000</td>\n",
       "      <td>0.185355</td>\n",
       "      <td>0.069028</td>\n",
       "      <td>-0.079843</td>\n",
       "    </tr>\n",
       "    <tr>\n",
       "      <th>Iws</th>\n",
       "      <td>0.003043</td>\n",
       "      <td>-0.247784</td>\n",
       "      <td>-0.296399</td>\n",
       "      <td>-0.154623</td>\n",
       "      <td>0.185355</td>\n",
       "      <td>1.000000</td>\n",
       "      <td>0.021883</td>\n",
       "      <td>-0.010122</td>\n",
       "    </tr>\n",
       "    <tr>\n",
       "      <th>Is</th>\n",
       "      <td>-0.061672</td>\n",
       "      <td>0.019266</td>\n",
       "      <td>-0.034410</td>\n",
       "      <td>-0.092601</td>\n",
       "      <td>0.069028</td>\n",
       "      <td>0.021883</td>\n",
       "      <td>1.000000</td>\n",
       "      <td>-0.009548</td>\n",
       "    </tr>\n",
       "    <tr>\n",
       "      <th>Ir</th>\n",
       "      <td>0.036737</td>\n",
       "      <td>-0.051369</td>\n",
       "      <td>0.125090</td>\n",
       "      <td>0.049121</td>\n",
       "      <td>-0.079843</td>\n",
       "      <td>-0.010122</td>\n",
       "      <td>-0.009548</td>\n",
       "      <td>1.000000</td>\n",
       "    </tr>\n",
       "  </tbody>\n",
       "</table>\n",
       "</div>"
      ],
      "text/plain": [
       "          month     pm2.5      DEWP      TEMP      PRES       Iws        Is  \\\n",
       "month  1.000000 -0.024069  0.233975  0.170093 -0.062185  0.003043 -0.061672   \n",
       "pm2.5 -0.024069  1.000000  0.171423 -0.090534 -0.047282 -0.247784  0.019266   \n",
       "DEWP   0.233975  0.171423  1.000000  0.824633 -0.778346 -0.296399 -0.034410   \n",
       "TEMP   0.170093 -0.090534  0.824633  1.000000 -0.826690 -0.154623 -0.092601   \n",
       "PRES  -0.062185 -0.047282 -0.778346 -0.826690  1.000000  0.185355  0.069028   \n",
       "Iws    0.003043 -0.247784 -0.296399 -0.154623  0.185355  1.000000  0.021883   \n",
       "Is    -0.061672  0.019266 -0.034410 -0.092601  0.069028  0.021883  1.000000   \n",
       "Ir     0.036737 -0.051369  0.125090  0.049121 -0.079843 -0.010122 -0.009548   \n",
       "\n",
       "             Ir  \n",
       "month  0.036737  \n",
       "pm2.5 -0.051369  \n",
       "DEWP   0.125090  \n",
       "TEMP   0.049121  \n",
       "PRES  -0.079843  \n",
       "Iws   -0.010122  \n",
       "Is    -0.009548  \n",
       "Ir     1.000000  "
      ]
     },
     "execution_count": 91,
     "metadata": {},
     "output_type": "execute_result"
    }
   ],
   "source": [
    "corrM"
   ]
  },
  {
   "cell_type": "code",
   "execution_count": 92,
   "id": "aa4c88e4-7f79-466c-a559-359d2b0027c9",
   "metadata": {},
   "outputs": [
    {
     "data": {
      "text/plain": [
       "<AxesSubplot:ylabel='Density'>"
      ]
     },
     "execution_count": 92,
     "metadata": {},
     "output_type": "execute_result"
    },
    {
     "data": {
      "image/png": "[encoded data removed]",
      "text/plain": [
       "<Figure size 432x288 with 1 Axes>"
      ]
     },
     "metadata": {
      "needs_background": "light"
     },
     "output_type": "display_data"
    }
   ],
   "source": [
    "df[\"pm2.5\"].plot.kde()  # Plot a single column"
   ]
  },
  {
   "cell_type": "code",
   "execution_count": 93,
   "id": "2bbfbbf5-99b3-4a47-8c87-54ddd3b274c7",
   "metadata": {},
   "outputs": [
    {
     "data": {
      "text/plain": [
       "<AxesSubplot:ylabel='Density'>"
      ]
     },
     "execution_count": 93,
     "metadata": {},
     "output_type": "execute_result"
    },
    {
     "data": {
      "image/png": "[encoded data removed]",
      "text/plain": [
       "<Figure size 432x288 with 1 Axes>"
      ]
     },
     "metadata": {
      "needs_background": "light"
     },
     "output_type": "display_data"
    }
   ],
   "source": [
    "df[\"DEWP\"].plot.kde()  # Plot a single column"
   ]
  },
  {
   "cell_type": "code",
   "execution_count": 94,
   "id": "8aa31ea4-6add-4786-9999-74fd56e72afb",
   "metadata": {},
   "outputs": [
    {
     "data": {
      "text/plain": [
       "<AxesSubplot:ylabel='Density'>"
      ]
     },
     "execution_count": 94,
     "metadata": {},
     "output_type": "execute_result"
    },
    {
     "data": {
      "image/png": "[encoded data removed]",
      "text/plain": [
       "<Figure size 432x288 with 1 Axes>"
      ]
     },
     "metadata": {
      "needs_background": "light"
     },
     "output_type": "display_data"
    }
   ],
   "source": [
    "df[\"Is\"].plot.kde()  # Plot a single column"
   ]
  },
  {
   "cell_type": "markdown",
   "id": "30a7b7a0-b085-4451-8d48-e1964128d348",
   "metadata": {},
   "source": [
    "**Data Preprocessing**"
   ]
  },
  {
   "cell_type": "markdown",
   "id": "f206312d-1663-4206-bd00-6cc2da33596e",
   "metadata": {},
   "source": [
    "Imputing missing data and drop dublicates data"
   ]
  },
  {
   "cell_type": "code",
   "execution_count": 95,
   "id": "e43e4856-bf11-4786-9131-bd5bd40f85f4",
   "metadata": {},
   "outputs": [
    {
     "data": {
      "text/plain": [
       "month       0\n",
       "pm2.5    2067\n",
       "DEWP        0\n",
       "TEMP        0\n",
       "PRES        0\n",
       "cbwd        0\n",
       "Iws         0\n",
       "Is          0\n",
       "Ir          0\n",
       "date        0\n",
       "dtype: int64"
      ]
     },
     "execution_count": 95,
     "metadata": {},
     "output_type": "execute_result"
    }
   ],
   "source": [
    "# let us check column-wise null values: before\n",
    "df.isnull().sum()"
   ]
  },
  {
   "cell_type": "code",
   "execution_count": 96,
   "id": "32603e61-3b0c-42d4-89da-b90f51e9ab72",
   "metadata": {},
   "outputs": [],
   "source": [
    "# let us apply interpolation\n",
    "cleaned_df = df.interpolate()"
   ]
  },
  {
   "cell_type": "code",
   "execution_count": 97,
   "id": "d0f09dd1-9135-4fa5-9fc0-67b0cb08bb2d",
   "metadata": {},
   "outputs": [
    {
     "data": {
      "text/plain": [
       "month     0\n",
       "pm2.5    24\n",
       "DEWP      0\n",
       "TEMP      0\n",
       "PRES      0\n",
       "cbwd      0\n",
       "Iws       0\n",
       "Is        0\n",
       "Ir        0\n",
       "date      0\n",
       "dtype: int64"
      ]
     },
     "execution_count": 97,
     "metadata": {},
     "output_type": "execute_result"
    }
   ],
   "source": [
    "# let us check column-wise null values: before\n",
    "cleaned_df.isnull().sum()"
   ]
  },
  {
   "cell_type": "code",
   "execution_count": 98,
   "id": "7cac17c4-1193-4a21-b798-2e64f801e6a0",
   "metadata": {},
   "outputs": [
    {
     "name": "stdout",
     "output_type": "stream",
     "text": [
      "count of NULL values after imputation\n",
      "\n"
     ]
    },
    {
     "data": {
      "text/plain": [
       "month    0\n",
       "pm2.5    0\n",
       "DEWP     0\n",
       "TEMP     0\n",
       "PRES     0\n",
       "cbwd     0\n",
       "Iws      0\n",
       "Is       0\n",
       "Ir       0\n",
       "date     0\n",
       "dtype: int64"
      ]
     },
     "execution_count": 98,
     "metadata": {},
     "output_type": "execute_result"
    }
   ],
   "source": [
    "missing_col = ['pm2.5']\n",
    "\n",
    "for i in missing_col:\n",
    "    cleaned_df.loc[cleaned_df.loc[:,i].isnull(),i]=cleaned_df.loc[:,i].median()\n",
    "\n",
    "print(\"count of NULL values after imputation\\n\")\n",
    "cleaned_df.isnull().sum()"
   ]
  },
  {
   "cell_type": "code",
   "execution_count": 99,
   "id": "d4f2d85d-5998-4fb2-bafc-0add811d2258",
   "metadata": {},
   "outputs": [],
   "source": [
    "cleaned_df.drop_duplicates(inplace=True)"
   ]
  },
  {
   "cell_type": "code",
   "execution_count": 100,
   "id": "aee46d67-f10a-42f4-8bcc-d14e631bdbcb",
   "metadata": {},
   "outputs": [
    {
     "data": {
      "text/plain": [
       "43822"
      ]
     },
     "execution_count": 100,
     "metadata": {},
     "output_type": "execute_result"
    }
   ],
   "source": [
    "len(cleaned_df)"
   ]
  },
  {
   "cell_type": "code",
   "execution_count": 101,
   "id": "cf73725b-ac6a-4320-87f4-98489dd67db1",
   "metadata": {},
   "outputs": [
    {
     "data": {
      "text/plain": [
       "43824"
      ]
     },
     "execution_count": 101,
     "metadata": {},
     "output_type": "execute_result"
    }
   ],
   "source": [
    "len(df)"
   ]
  },
  {
   "cell_type": "markdown",
   "id": "7e587679-65bf-412e-b97b-3de07a845804",
   "metadata": {},
   "source": [
    "**Feature Engineering**"
   ]
  },
  {
   "cell_type": "markdown",
   "id": "311a2960-6769-4234-a730-3bf8499e8021",
   "metadata": {},
   "source": [
    "1-)Feature Extraction"
   ]
  },
  {
   "cell_type": "code",
   "execution_count": 241,
   "id": "bb99de82-56f9-43cb-8fc5-048ce5d980f4",
   "metadata": {},
   "outputs": [
    {
     "data": {
      "text/html": [
       "<div>\n",
       "<style scoped>\n",
       "    .dataframe tbody tr th:only-of-type {\n",
       "        vertical-align: middle;\n",
       "    }\n",
       "\n",
       "    .dataframe tbody tr th {\n",
       "        vertical-align: top;\n",
       "    }\n",
       "\n",
       "    .dataframe thead th {\n",
       "        text-align: right;\n",
       "    }\n",
       "</style>\n",
       "<table border=\"1\" class=\"dataframe\">\n",
       "  <thead>\n",
       "    <tr style=\"text-align: right;\">\n",
       "      <th></th>\n",
       "      <th>pm2.5</th>\n",
       "      <th>DEWP</th>\n",
       "      <th>TEMP</th>\n",
       "      <th>PRES</th>\n",
       "      <th>cbwd</th>\n",
       "      <th>Iws</th>\n",
       "      <th>Is</th>\n",
       "      <th>Ir</th>\n",
       "      <th>day_week</th>\n",
       "      <th>seasonal_rate</th>\n",
       "    </tr>\n",
       "    <tr>\n",
       "      <th>Date-Time</th>\n",
       "      <th></th>\n",
       "      <th></th>\n",
       "      <th></th>\n",
       "      <th></th>\n",
       "      <th></th>\n",
       "      <th></th>\n",
       "      <th></th>\n",
       "      <th></th>\n",
       "      <th></th>\n",
       "      <th></th>\n",
       "    </tr>\n",
       "  </thead>\n",
       "  <tbody>\n",
       "    <tr>\n",
       "      <th>2014-12-31 19:00:00</th>\n",
       "      <td>8.0</td>\n",
       "      <td>-23</td>\n",
       "      <td>-2.0</td>\n",
       "      <td>1034.0</td>\n",
       "      <td>1.0</td>\n",
       "      <td>231.97</td>\n",
       "      <td>0</td>\n",
       "      <td>0</td>\n",
       "      <td>1</td>\n",
       "      <td>3</td>\n",
       "    </tr>\n",
       "    <tr>\n",
       "      <th>2014-12-31 20:00:00</th>\n",
       "      <td>10.0</td>\n",
       "      <td>-22</td>\n",
       "      <td>-3.0</td>\n",
       "      <td>1034.0</td>\n",
       "      <td>1.0</td>\n",
       "      <td>237.78</td>\n",
       "      <td>0</td>\n",
       "      <td>0</td>\n",
       "      <td>1</td>\n",
       "      <td>3</td>\n",
       "    </tr>\n",
       "    <tr>\n",
       "      <th>2014-12-31 21:00:00</th>\n",
       "      <td>10.0</td>\n",
       "      <td>-22</td>\n",
       "      <td>-3.0</td>\n",
       "      <td>1034.0</td>\n",
       "      <td>1.0</td>\n",
       "      <td>242.70</td>\n",
       "      <td>0</td>\n",
       "      <td>0</td>\n",
       "      <td>1</td>\n",
       "      <td>3</td>\n",
       "    </tr>\n",
       "    <tr>\n",
       "      <th>2014-12-31 22:00:00</th>\n",
       "      <td>8.0</td>\n",
       "      <td>-22</td>\n",
       "      <td>-4.0</td>\n",
       "      <td>1034.0</td>\n",
       "      <td>1.0</td>\n",
       "      <td>246.72</td>\n",
       "      <td>0</td>\n",
       "      <td>0</td>\n",
       "      <td>1</td>\n",
       "      <td>3</td>\n",
       "    </tr>\n",
       "    <tr>\n",
       "      <th>2014-12-31 23:00:00</th>\n",
       "      <td>12.0</td>\n",
       "      <td>-21</td>\n",
       "      <td>-3.0</td>\n",
       "      <td>1034.0</td>\n",
       "      <td>1.0</td>\n",
       "      <td>249.85</td>\n",
       "      <td>0</td>\n",
       "      <td>0</td>\n",
       "      <td>1</td>\n",
       "      <td>3</td>\n",
       "    </tr>\n",
       "  </tbody>\n",
       "</table>\n",
       "</div>"
      ],
      "text/plain": [
       "                     pm2.5  DEWP  TEMP    PRES  cbwd     Iws  Is  Ir  \\\n",
       "Date-Time                                                              \n",
       "2014-12-31 19:00:00    8.0   -23  -2.0  1034.0   1.0  231.97   0   0   \n",
       "2014-12-31 20:00:00   10.0   -22  -3.0  1034.0   1.0  237.78   0   0   \n",
       "2014-12-31 21:00:00   10.0   -22  -3.0  1034.0   1.0  242.70   0   0   \n",
       "2014-12-31 22:00:00    8.0   -22  -4.0  1034.0   1.0  246.72   0   0   \n",
       "2014-12-31 23:00:00   12.0   -21  -3.0  1034.0   1.0  249.85   0   0   \n",
       "\n",
       "                     day_week  seasonal_rate  \n",
       "Date-Time                                     \n",
       "2014-12-31 19:00:00         1              3  \n",
       "2014-12-31 20:00:00         1              3  \n",
       "2014-12-31 21:00:00         1              3  \n",
       "2014-12-31 22:00:00         1              3  \n",
       "2014-12-31 23:00:00         1              3  "
      ]
     },
     "execution_count": 241,
     "metadata": {},
     "output_type": "execute_result"
    }
   ],
   "source": [
    "cleaned_df.tail()"
   ]
  },
  {
   "cell_type": "code",
   "execution_count": 103,
   "id": "1dace7c4-868a-4a9b-8a74-f98e1ed433ab",
   "metadata": {},
   "outputs": [],
   "source": [
    "from sklearn.preprocessing import OrdinalEncoder\n",
    "ord_enc = OrdinalEncoder()\n",
    "cleaned_df[\"cbwd\"] = ord_enc.fit_transform(cleaned_df[[\"cbwd\"]])"
   ]
  },
  {
   "cell_type": "code",
   "execution_count": 104,
   "id": "bffd9c6b-1484-4999-928a-0efa5824d43c",
   "metadata": {},
   "outputs": [
    {
     "data": {
      "text/html": [
       "<div>\n",
       "<style scoped>\n",
       "    .dataframe tbody tr th:only-of-type {\n",
       "        vertical-align: middle;\n",
       "    }\n",
       "\n",
       "    .dataframe tbody tr th {\n",
       "        vertical-align: top;\n",
       "    }\n",
       "\n",
       "    .dataframe thead th {\n",
       "        text-align: right;\n",
       "    }\n",
       "</style>\n",
       "<table border=\"1\" class=\"dataframe\">\n",
       "  <thead>\n",
       "    <tr style=\"text-align: right;\">\n",
       "      <th></th>\n",
       "      <th>month</th>\n",
       "      <th>pm2.5</th>\n",
       "      <th>DEWP</th>\n",
       "      <th>TEMP</th>\n",
       "      <th>PRES</th>\n",
       "      <th>cbwd</th>\n",
       "      <th>Iws</th>\n",
       "      <th>Is</th>\n",
       "      <th>Ir</th>\n",
       "      <th>date</th>\n",
       "    </tr>\n",
       "    <tr>\n",
       "      <th>Date-Time</th>\n",
       "      <th></th>\n",
       "      <th></th>\n",
       "      <th></th>\n",
       "      <th></th>\n",
       "      <th></th>\n",
       "      <th></th>\n",
       "      <th></th>\n",
       "      <th></th>\n",
       "      <th></th>\n",
       "      <th></th>\n",
       "    </tr>\n",
       "  </thead>\n",
       "  <tbody>\n",
       "    <tr>\n",
       "      <th>2010-01-01 00:00:00</th>\n",
       "      <td>1</td>\n",
       "      <td>73.0</td>\n",
       "      <td>-21</td>\n",
       "      <td>-11.0</td>\n",
       "      <td>1021.0</td>\n",
       "      <td>1.0</td>\n",
       "      <td>1.79</td>\n",
       "      <td>0</td>\n",
       "      <td>0</td>\n",
       "      <td>2010-01-01</td>\n",
       "    </tr>\n",
       "    <tr>\n",
       "      <th>2010-01-01 01:00:00</th>\n",
       "      <td>1</td>\n",
       "      <td>73.0</td>\n",
       "      <td>-21</td>\n",
       "      <td>-12.0</td>\n",
       "      <td>1020.0</td>\n",
       "      <td>1.0</td>\n",
       "      <td>4.92</td>\n",
       "      <td>0</td>\n",
       "      <td>0</td>\n",
       "      <td>2010-01-01</td>\n",
       "    </tr>\n",
       "    <tr>\n",
       "      <th>2010-01-01 02:00:00</th>\n",
       "      <td>1</td>\n",
       "      <td>73.0</td>\n",
       "      <td>-21</td>\n",
       "      <td>-11.0</td>\n",
       "      <td>1019.0</td>\n",
       "      <td>1.0</td>\n",
       "      <td>6.71</td>\n",
       "      <td>0</td>\n",
       "      <td>0</td>\n",
       "      <td>2010-01-01</td>\n",
       "    </tr>\n",
       "    <tr>\n",
       "      <th>2010-01-01 03:00:00</th>\n",
       "      <td>1</td>\n",
       "      <td>73.0</td>\n",
       "      <td>-21</td>\n",
       "      <td>-14.0</td>\n",
       "      <td>1019.0</td>\n",
       "      <td>1.0</td>\n",
       "      <td>9.84</td>\n",
       "      <td>0</td>\n",
       "      <td>0</td>\n",
       "      <td>2010-01-01</td>\n",
       "    </tr>\n",
       "    <tr>\n",
       "      <th>2010-01-01 04:00:00</th>\n",
       "      <td>1</td>\n",
       "      <td>73.0</td>\n",
       "      <td>-20</td>\n",
       "      <td>-12.0</td>\n",
       "      <td>1018.0</td>\n",
       "      <td>1.0</td>\n",
       "      <td>12.97</td>\n",
       "      <td>0</td>\n",
       "      <td>0</td>\n",
       "      <td>2010-01-01</td>\n",
       "    </tr>\n",
       "  </tbody>\n",
       "</table>\n",
       "</div>"
      ],
      "text/plain": [
       "                     month  pm2.5  DEWP  TEMP    PRES  cbwd    Iws  Is  Ir  \\\n",
       "Date-Time                                                                    \n",
       "2010-01-01 00:00:00      1   73.0   -21 -11.0  1021.0   1.0   1.79   0   0   \n",
       "2010-01-01 01:00:00      1   73.0   -21 -12.0  1020.0   1.0   4.92   0   0   \n",
       "2010-01-01 02:00:00      1   73.0   -21 -11.0  1019.0   1.0   6.71   0   0   \n",
       "2010-01-01 03:00:00      1   73.0   -21 -14.0  1019.0   1.0   9.84   0   0   \n",
       "2010-01-01 04:00:00      1   73.0   -20 -12.0  1018.0   1.0  12.97   0   0   \n",
       "\n",
       "                          date  \n",
       "Date-Time                       \n",
       "2010-01-01 00:00:00 2010-01-01  \n",
       "2010-01-01 01:00:00 2010-01-01  \n",
       "2010-01-01 02:00:00 2010-01-01  \n",
       "2010-01-01 03:00:00 2010-01-01  \n",
       "2010-01-01 04:00:00 2010-01-01  "
      ]
     },
     "execution_count": 104,
     "metadata": {},
     "output_type": "execute_result"
    }
   ],
   "source": [
    "cleaned_df.head()"
   ]
  },
  {
   "cell_type": "code",
   "execution_count": 105,
   "id": "9b669eca-7f68-41b0-b95b-bb5f34558512",
   "metadata": {},
   "outputs": [],
   "source": [
    "X = cleaned_df.iloc[:, 2:]\n",
    "y = cleaned_df.iloc[:, 1]"
   ]
  },
  {
   "cell_type": "code",
   "execution_count": 242,
   "id": "74464443-6a13-4c2f-a139-bc35c7c3dfb4",
   "metadata": {},
   "outputs": [
    {
     "data": {
      "text/html": [
       "<div>\n",
       "<style scoped>\n",
       "    .dataframe tbody tr th:only-of-type {\n",
       "        vertical-align: middle;\n",
       "    }\n",
       "\n",
       "    .dataframe tbody tr th {\n",
       "        vertical-align: top;\n",
       "    }\n",
       "\n",
       "    .dataframe thead th {\n",
       "        text-align: right;\n",
       "    }\n",
       "</style>\n",
       "<table border=\"1\" class=\"dataframe\">\n",
       "  <thead>\n",
       "    <tr style=\"text-align: right;\">\n",
       "      <th></th>\n",
       "      <th>DEWP</th>\n",
       "      <th>TEMP</th>\n",
       "      <th>PRES</th>\n",
       "      <th>cbwd</th>\n",
       "      <th>Iws</th>\n",
       "      <th>Is</th>\n",
       "      <th>Ir</th>\n",
       "      <th>day_week</th>\n",
       "      <th>seasonal_rate</th>\n",
       "    </tr>\n",
       "    <tr>\n",
       "      <th>Date-Time</th>\n",
       "      <th></th>\n",
       "      <th></th>\n",
       "      <th></th>\n",
       "      <th></th>\n",
       "      <th></th>\n",
       "      <th></th>\n",
       "      <th></th>\n",
       "      <th></th>\n",
       "      <th></th>\n",
       "    </tr>\n",
       "  </thead>\n",
       "  <tbody>\n",
       "    <tr>\n",
       "      <th>2010-01-01 00:00:00</th>\n",
       "      <td>-21</td>\n",
       "      <td>-11.0</td>\n",
       "      <td>1021.0</td>\n",
       "      <td>1.0</td>\n",
       "      <td>1.79</td>\n",
       "      <td>0</td>\n",
       "      <td>0</td>\n",
       "      <td>1</td>\n",
       "      <td>4</td>\n",
       "    </tr>\n",
       "    <tr>\n",
       "      <th>2010-01-01 01:00:00</th>\n",
       "      <td>-21</td>\n",
       "      <td>-12.0</td>\n",
       "      <td>1020.0</td>\n",
       "      <td>1.0</td>\n",
       "      <td>4.92</td>\n",
       "      <td>0</td>\n",
       "      <td>0</td>\n",
       "      <td>1</td>\n",
       "      <td>4</td>\n",
       "    </tr>\n",
       "    <tr>\n",
       "      <th>2010-01-01 02:00:00</th>\n",
       "      <td>-21</td>\n",
       "      <td>-11.0</td>\n",
       "      <td>1019.0</td>\n",
       "      <td>1.0</td>\n",
       "      <td>6.71</td>\n",
       "      <td>0</td>\n",
       "      <td>0</td>\n",
       "      <td>1</td>\n",
       "      <td>4</td>\n",
       "    </tr>\n",
       "    <tr>\n",
       "      <th>2010-01-01 03:00:00</th>\n",
       "      <td>-21</td>\n",
       "      <td>-14.0</td>\n",
       "      <td>1019.0</td>\n",
       "      <td>1.0</td>\n",
       "      <td>9.84</td>\n",
       "      <td>0</td>\n",
       "      <td>0</td>\n",
       "      <td>1</td>\n",
       "      <td>4</td>\n",
       "    </tr>\n",
       "    <tr>\n",
       "      <th>2010-01-01 04:00:00</th>\n",
       "      <td>-20</td>\n",
       "      <td>-12.0</td>\n",
       "      <td>1018.0</td>\n",
       "      <td>1.0</td>\n",
       "      <td>12.97</td>\n",
       "      <td>0</td>\n",
       "      <td>0</td>\n",
       "      <td>1</td>\n",
       "      <td>4</td>\n",
       "    </tr>\n",
       "    <tr>\n",
       "      <th>...</th>\n",
       "      <td>...</td>\n",
       "      <td>...</td>\n",
       "      <td>...</td>\n",
       "      <td>...</td>\n",
       "      <td>...</td>\n",
       "      <td>...</td>\n",
       "      <td>...</td>\n",
       "      <td>...</td>\n",
       "      <td>...</td>\n",
       "    </tr>\n",
       "    <tr>\n",
       "      <th>2014-12-31 19:00:00</th>\n",
       "      <td>-23</td>\n",
       "      <td>-2.0</td>\n",
       "      <td>1034.0</td>\n",
       "      <td>1.0</td>\n",
       "      <td>231.97</td>\n",
       "      <td>0</td>\n",
       "      <td>0</td>\n",
       "      <td>1</td>\n",
       "      <td>3</td>\n",
       "    </tr>\n",
       "    <tr>\n",
       "      <th>2014-12-31 20:00:00</th>\n",
       "      <td>-22</td>\n",
       "      <td>-3.0</td>\n",
       "      <td>1034.0</td>\n",
       "      <td>1.0</td>\n",
       "      <td>237.78</td>\n",
       "      <td>0</td>\n",
       "      <td>0</td>\n",
       "      <td>1</td>\n",
       "      <td>3</td>\n",
       "    </tr>\n",
       "    <tr>\n",
       "      <th>2014-12-31 21:00:00</th>\n",
       "      <td>-22</td>\n",
       "      <td>-3.0</td>\n",
       "      <td>1034.0</td>\n",
       "      <td>1.0</td>\n",
       "      <td>242.70</td>\n",
       "      <td>0</td>\n",
       "      <td>0</td>\n",
       "      <td>1</td>\n",
       "      <td>3</td>\n",
       "    </tr>\n",
       "    <tr>\n",
       "      <th>2014-12-31 22:00:00</th>\n",
       "      <td>-22</td>\n",
       "      <td>-4.0</td>\n",
       "      <td>1034.0</td>\n",
       "      <td>1.0</td>\n",
       "      <td>246.72</td>\n",
       "      <td>0</td>\n",
       "      <td>0</td>\n",
       "      <td>1</td>\n",
       "      <td>3</td>\n",
       "    </tr>\n",
       "    <tr>\n",
       "      <th>2014-12-31 23:00:00</th>\n",
       "      <td>-21</td>\n",
       "      <td>-3.0</td>\n",
       "      <td>1034.0</td>\n",
       "      <td>1.0</td>\n",
       "      <td>249.85</td>\n",
       "      <td>0</td>\n",
       "      <td>0</td>\n",
       "      <td>1</td>\n",
       "      <td>3</td>\n",
       "    </tr>\n",
       "  </tbody>\n",
       "</table>\n",
       "<p>43822 rows × 9 columns</p>\n",
       "</div>"
      ],
      "text/plain": [
       "                     DEWP  TEMP    PRES  cbwd     Iws  Is  Ir  day_week  \\\n",
       "Date-Time                                                                 \n",
       "2010-01-01 00:00:00   -21 -11.0  1021.0   1.0    1.79   0   0         1   \n",
       "2010-01-01 01:00:00   -21 -12.0  1020.0   1.0    4.92   0   0         1   \n",
       "2010-01-01 02:00:00   -21 -11.0  1019.0   1.0    6.71   0   0         1   \n",
       "2010-01-01 03:00:00   -21 -14.0  1019.0   1.0    9.84   0   0         1   \n",
       "2010-01-01 04:00:00   -20 -12.0  1018.0   1.0   12.97   0   0         1   \n",
       "...                   ...   ...     ...   ...     ...  ..  ..       ...   \n",
       "2014-12-31 19:00:00   -23  -2.0  1034.0   1.0  231.97   0   0         1   \n",
       "2014-12-31 20:00:00   -22  -3.0  1034.0   1.0  237.78   0   0         1   \n",
       "2014-12-31 21:00:00   -22  -3.0  1034.0   1.0  242.70   0   0         1   \n",
       "2014-12-31 22:00:00   -22  -4.0  1034.0   1.0  246.72   0   0         1   \n",
       "2014-12-31 23:00:00   -21  -3.0  1034.0   1.0  249.85   0   0         1   \n",
       "\n",
       "                     seasonal_rate  \n",
       "Date-Time                           \n",
       "2010-01-01 00:00:00              4  \n",
       "2010-01-01 01:00:00              4  \n",
       "2010-01-01 02:00:00              4  \n",
       "2010-01-01 03:00:00              4  \n",
       "2010-01-01 04:00:00              4  \n",
       "...                            ...  \n",
       "2014-12-31 19:00:00              3  \n",
       "2014-12-31 20:00:00              3  \n",
       "2014-12-31 21:00:00              3  \n",
       "2014-12-31 22:00:00              3  \n",
       "2014-12-31 23:00:00              3  \n",
       "\n",
       "[43822 rows x 9 columns]"
      ]
     },
     "execution_count": 242,
     "metadata": {},
     "output_type": "execute_result"
    }
   ],
   "source": [
    "X"
   ]
  },
  {
   "cell_type": "code",
   "execution_count": 243,
   "id": "32045819-8143-4df9-806f-9c6859a405e4",
   "metadata": {},
   "outputs": [
    {
     "data": {
      "text/plain": [
       "Date-Time\n",
       "2010-01-01 00:00:00    73.0\n",
       "2010-01-01 01:00:00    73.0\n",
       "2010-01-01 02:00:00    73.0\n",
       "2010-01-01 03:00:00    73.0\n",
       "2010-01-01 04:00:00    73.0\n",
       "                       ... \n",
       "2014-12-31 19:00:00     8.0\n",
       "2014-12-31 20:00:00    10.0\n",
       "2014-12-31 21:00:00    10.0\n",
       "2014-12-31 22:00:00     8.0\n",
       "2014-12-31 23:00:00    12.0\n",
       "Name: pm2.5, Length: 43822, dtype: float64"
      ]
     },
     "execution_count": 243,
     "metadata": {},
     "output_type": "execute_result"
    }
   ],
   "source": [
    "y"
   ]
  },
  {
   "cell_type": "markdown",
   "id": "8e5ffbfe-76e2-4540-82b0-fb45340d718a",
   "metadata": {},
   "source": [
    "Finding most important features"
   ]
  },
  {
   "cell_type": "code",
   "execution_count": 244,
   "id": "26737739-2f32-4f40-af58-91512a8324f7",
   "metadata": {},
   "outputs": [
    {
     "data": {
      "text/plain": [
       "ExtraTreesRegressor()"
      ]
     },
     "execution_count": 244,
     "metadata": {},
     "output_type": "execute_result"
    }
   ],
   "source": [
    "from sklearn.ensemble import ExtraTreesRegressor\n",
    "feature_selector = ExtraTreesRegressor()\n",
    "feature_selector.fit(X,y)"
   ]
  },
  {
   "cell_type": "code",
   "execution_count": 245,
   "id": "3679fdf9-f5b6-4bb1-b7a8-8cad7d3902a1",
   "metadata": {},
   "outputs": [
    {
     "data": {
      "text/plain": [
       "array([0.26657015, 0.18021834, 0.18278169, 0.06928989, 0.16790026,\n",
       "       0.00636286, 0.01073578, 0.03524592, 0.08089509])"
      ]
     },
     "execution_count": 245,
     "metadata": {},
     "output_type": "execute_result"
    }
   ],
   "source": [
    "feature_selector.feature_importances_"
   ]
  },
  {
   "cell_type": "code",
   "execution_count": 246,
   "id": "29529d15-6e37-40fa-9dc6-b4000f44f53d",
   "metadata": {},
   "outputs": [
    {
     "data": {
      "text/plain": [
       "<AxesSubplot:>"
      ]
     },
     "execution_count": 246,
     "metadata": {},
     "output_type": "execute_result"
    },
    {
     "data": {
      "image/png": "[encoded data removed]",
      "text/plain": [
       "<Figure size 432x288 with 1 Axes>"
      ]
     },
     "metadata": {
      "needs_background": "light"
     },
     "output_type": "display_data"
    }
   ],
   "source": [
    "# 5 most important features\n",
    "pd.Series(feature_selector.feature_importances_, index=X.columns).nlargest(5).plot(kind='bar')\n"
   ]
  },
  {
   "cell_type": "markdown",
   "id": "f35cc755-c28f-436b-a626-2f00ca695ca1",
   "metadata": {},
   "source": [
    "Adding two new features to dataset"
   ]
  },
  {
   "cell_type": "code",
   "execution_count": 111,
   "id": "d934546c-14ba-4794-991c-51b1892d0863",
   "metadata": {},
   "outputs": [],
   "source": [
    "# function to find day of the week based on the date field\n",
    "import calendar\n",
    "def findDay(date): \n",
    "    dayname = calendar.day_name[date.weekday()]\n",
    "    return dayname"
   ]
  },
  {
   "cell_type": "code",
   "execution_count": 112,
   "id": "bbabef15-2360-4756-b8e5-c916382efe47",
   "metadata": {},
   "outputs": [
    {
     "data": {
      "text/html": [
       "<div>\n",
       "<style scoped>\n",
       "    .dataframe tbody tr th:only-of-type {\n",
       "        vertical-align: middle;\n",
       "    }\n",
       "\n",
       "    .dataframe tbody tr th {\n",
       "        vertical-align: top;\n",
       "    }\n",
       "\n",
       "    .dataframe thead th {\n",
       "        text-align: right;\n",
       "    }\n",
       "</style>\n",
       "<table border=\"1\" class=\"dataframe\">\n",
       "  <thead>\n",
       "    <tr style=\"text-align: right;\">\n",
       "      <th></th>\n",
       "      <th>month</th>\n",
       "      <th>pm2.5</th>\n",
       "      <th>DEWP</th>\n",
       "      <th>TEMP</th>\n",
       "      <th>PRES</th>\n",
       "      <th>cbwd</th>\n",
       "      <th>Iws</th>\n",
       "      <th>Is</th>\n",
       "      <th>Ir</th>\n",
       "      <th>date</th>\n",
       "      <th>day_week</th>\n",
       "    </tr>\n",
       "    <tr>\n",
       "      <th>Date-Time</th>\n",
       "      <th></th>\n",
       "      <th></th>\n",
       "      <th></th>\n",
       "      <th></th>\n",
       "      <th></th>\n",
       "      <th></th>\n",
       "      <th></th>\n",
       "      <th></th>\n",
       "      <th></th>\n",
       "      <th></th>\n",
       "      <th></th>\n",
       "    </tr>\n",
       "  </thead>\n",
       "  <tbody>\n",
       "    <tr>\n",
       "      <th>2010-01-01 00:00:00</th>\n",
       "      <td>1</td>\n",
       "      <td>73.0</td>\n",
       "      <td>-21</td>\n",
       "      <td>-11.0</td>\n",
       "      <td>1021.0</td>\n",
       "      <td>1.0</td>\n",
       "      <td>1.79</td>\n",
       "      <td>0</td>\n",
       "      <td>0</td>\n",
       "      <td>2010-01-01</td>\n",
       "      <td>Friday</td>\n",
       "    </tr>\n",
       "    <tr>\n",
       "      <th>2010-01-01 01:00:00</th>\n",
       "      <td>1</td>\n",
       "      <td>73.0</td>\n",
       "      <td>-21</td>\n",
       "      <td>-12.0</td>\n",
       "      <td>1020.0</td>\n",
       "      <td>1.0</td>\n",
       "      <td>4.92</td>\n",
       "      <td>0</td>\n",
       "      <td>0</td>\n",
       "      <td>2010-01-01</td>\n",
       "      <td>Friday</td>\n",
       "    </tr>\n",
       "    <tr>\n",
       "      <th>2010-01-01 02:00:00</th>\n",
       "      <td>1</td>\n",
       "      <td>73.0</td>\n",
       "      <td>-21</td>\n",
       "      <td>-11.0</td>\n",
       "      <td>1019.0</td>\n",
       "      <td>1.0</td>\n",
       "      <td>6.71</td>\n",
       "      <td>0</td>\n",
       "      <td>0</td>\n",
       "      <td>2010-01-01</td>\n",
       "      <td>Friday</td>\n",
       "    </tr>\n",
       "    <tr>\n",
       "      <th>2010-01-01 03:00:00</th>\n",
       "      <td>1</td>\n",
       "      <td>73.0</td>\n",
       "      <td>-21</td>\n",
       "      <td>-14.0</td>\n",
       "      <td>1019.0</td>\n",
       "      <td>1.0</td>\n",
       "      <td>9.84</td>\n",
       "      <td>0</td>\n",
       "      <td>0</td>\n",
       "      <td>2010-01-01</td>\n",
       "      <td>Friday</td>\n",
       "    </tr>\n",
       "    <tr>\n",
       "      <th>2010-01-01 04:00:00</th>\n",
       "      <td>1</td>\n",
       "      <td>73.0</td>\n",
       "      <td>-20</td>\n",
       "      <td>-12.0</td>\n",
       "      <td>1018.0</td>\n",
       "      <td>1.0</td>\n",
       "      <td>12.97</td>\n",
       "      <td>0</td>\n",
       "      <td>0</td>\n",
       "      <td>2010-01-01</td>\n",
       "      <td>Friday</td>\n",
       "    </tr>\n",
       "  </tbody>\n",
       "</table>\n",
       "</div>"
      ],
      "text/plain": [
       "                     month  pm2.5  DEWP  TEMP    PRES  cbwd    Iws  Is  Ir  \\\n",
       "Date-Time                                                                    \n",
       "2010-01-01 00:00:00      1   73.0   -21 -11.0  1021.0   1.0   1.79   0   0   \n",
       "2010-01-01 01:00:00      1   73.0   -21 -12.0  1020.0   1.0   4.92   0   0   \n",
       "2010-01-01 02:00:00      1   73.0   -21 -11.0  1019.0   1.0   6.71   0   0   \n",
       "2010-01-01 03:00:00      1   73.0   -21 -14.0  1019.0   1.0   9.84   0   0   \n",
       "2010-01-01 04:00:00      1   73.0   -20 -12.0  1018.0   1.0  12.97   0   0   \n",
       "\n",
       "                          date day_week  \n",
       "Date-Time                                \n",
       "2010-01-01 00:00:00 2010-01-01   Friday  \n",
       "2010-01-01 01:00:00 2010-01-01   Friday  \n",
       "2010-01-01 02:00:00 2010-01-01   Friday  \n",
       "2010-01-01 03:00:00 2010-01-01   Friday  \n",
       "2010-01-01 04:00:00 2010-01-01   Friday  "
      ]
     },
     "execution_count": 112,
     "metadata": {},
     "output_type": "execute_result"
    }
   ],
   "source": [
    "#Adding the day_week feature to dataset\n",
    "cleaned_df['day_week'] = cleaned_df['date'].apply(lambda x: findDay(x))\n",
    "cleaned_df.head()"
   ]
  },
  {
   "cell_type": "code",
   "execution_count": 113,
   "id": "c6e57eed-e8bb-45ed-8980-953cc1c7f38c",
   "metadata": {},
   "outputs": [],
   "source": [
    "#Adding the seasonal_rate feature to dataset based on coefficient of seasonal pollution \n",
    "cleaned_df.month.replace([1,2,3,4,5,6,7,8,9,10,11,12], [4,4,4,2,2,2,1,1,1,3,3,3], inplace=True)"
   ]
  },
  {
   "cell_type": "code",
   "execution_count": 114,
   "id": "9eb27474-81bd-4bf9-bd58-75dabcc2125e",
   "metadata": {},
   "outputs": [],
   "source": [
    "cleaned_df['seasonal_rate'] = cleaned_df.month"
   ]
  },
  {
   "cell_type": "code",
   "execution_count": 115,
   "id": "d8b086fa-1506-418c-a227-c2476b5326b7",
   "metadata": {},
   "outputs": [],
   "source": [
    "cleaned_df.drop('month', inplace=True, axis=1)"
   ]
  },
  {
   "cell_type": "code",
   "execution_count": 75,
   "id": "495493f4-015b-457a-9110-406f57750b06",
   "metadata": {},
   "outputs": [
    {
     "data": {
      "text/html": [
       "<div>\n",
       "<style scoped>\n",
       "    .dataframe tbody tr th:only-of-type {\n",
       "        vertical-align: middle;\n",
       "    }\n",
       "\n",
       "    .dataframe tbody tr th {\n",
       "        vertical-align: top;\n",
       "    }\n",
       "\n",
       "    .dataframe thead th {\n",
       "        text-align: right;\n",
       "    }\n",
       "</style>\n",
       "<table border=\"1\" class=\"dataframe\">\n",
       "  <thead>\n",
       "    <tr style=\"text-align: right;\">\n",
       "      <th></th>\n",
       "      <th>pm2.5</th>\n",
       "      <th>DEWP</th>\n",
       "      <th>TEMP</th>\n",
       "      <th>PRES</th>\n",
       "      <th>cbwd</th>\n",
       "      <th>Iws</th>\n",
       "      <th>Is</th>\n",
       "      <th>Ir</th>\n",
       "      <th>date</th>\n",
       "      <th>day_week</th>\n",
       "      <th>seasonal_rate</th>\n",
       "    </tr>\n",
       "    <tr>\n",
       "      <th>Date-Time</th>\n",
       "      <th></th>\n",
       "      <th></th>\n",
       "      <th></th>\n",
       "      <th></th>\n",
       "      <th></th>\n",
       "      <th></th>\n",
       "      <th></th>\n",
       "      <th></th>\n",
       "      <th></th>\n",
       "      <th></th>\n",
       "      <th></th>\n",
       "    </tr>\n",
       "  </thead>\n",
       "  <tbody>\n",
       "    <tr>\n",
       "      <th>2014-12-31 19:00:00</th>\n",
       "      <td>8.0</td>\n",
       "      <td>-23</td>\n",
       "      <td>-2.0</td>\n",
       "      <td>1034.0</td>\n",
       "      <td>1.0</td>\n",
       "      <td>231.97</td>\n",
       "      <td>0</td>\n",
       "      <td>0</td>\n",
       "      <td>2014-12-31</td>\n",
       "      <td>1</td>\n",
       "      <td>3</td>\n",
       "    </tr>\n",
       "    <tr>\n",
       "      <th>2014-12-31 20:00:00</th>\n",
       "      <td>10.0</td>\n",
       "      <td>-22</td>\n",
       "      <td>-3.0</td>\n",
       "      <td>1034.0</td>\n",
       "      <td>1.0</td>\n",
       "      <td>237.78</td>\n",
       "      <td>0</td>\n",
       "      <td>0</td>\n",
       "      <td>2014-12-31</td>\n",
       "      <td>1</td>\n",
       "      <td>3</td>\n",
       "    </tr>\n",
       "    <tr>\n",
       "      <th>2014-12-31 21:00:00</th>\n",
       "      <td>10.0</td>\n",
       "      <td>-22</td>\n",
       "      <td>-3.0</td>\n",
       "      <td>1034.0</td>\n",
       "      <td>1.0</td>\n",
       "      <td>242.70</td>\n",
       "      <td>0</td>\n",
       "      <td>0</td>\n",
       "      <td>2014-12-31</td>\n",
       "      <td>1</td>\n",
       "      <td>3</td>\n",
       "    </tr>\n",
       "    <tr>\n",
       "      <th>2014-12-31 22:00:00</th>\n",
       "      <td>8.0</td>\n",
       "      <td>-22</td>\n",
       "      <td>-4.0</td>\n",
       "      <td>1034.0</td>\n",
       "      <td>1.0</td>\n",
       "      <td>246.72</td>\n",
       "      <td>0</td>\n",
       "      <td>0</td>\n",
       "      <td>2014-12-31</td>\n",
       "      <td>1</td>\n",
       "      <td>3</td>\n",
       "    </tr>\n",
       "    <tr>\n",
       "      <th>2014-12-31 23:00:00</th>\n",
       "      <td>12.0</td>\n",
       "      <td>-21</td>\n",
       "      <td>-3.0</td>\n",
       "      <td>1034.0</td>\n",
       "      <td>1.0</td>\n",
       "      <td>249.85</td>\n",
       "      <td>0</td>\n",
       "      <td>0</td>\n",
       "      <td>2014-12-31</td>\n",
       "      <td>1</td>\n",
       "      <td>3</td>\n",
       "    </tr>\n",
       "  </tbody>\n",
       "</table>\n",
       "</div>"
      ],
      "text/plain": [
       "                     pm2.5  DEWP  TEMP    PRES  cbwd     Iws  Is  Ir  \\\n",
       "Date-Time                                                              \n",
       "2014-12-31 19:00:00    8.0   -23  -2.0  1034.0   1.0  231.97   0   0   \n",
       "2014-12-31 20:00:00   10.0   -22  -3.0  1034.0   1.0  237.78   0   0   \n",
       "2014-12-31 21:00:00   10.0   -22  -3.0  1034.0   1.0  242.70   0   0   \n",
       "2014-12-31 22:00:00    8.0   -22  -4.0  1034.0   1.0  246.72   0   0   \n",
       "2014-12-31 23:00:00   12.0   -21  -3.0  1034.0   1.0  249.85   0   0   \n",
       "\n",
       "                          date  day_week  seasonal_rate  \n",
       "Date-Time                                                \n",
       "2014-12-31 19:00:00 2014-12-31         1              3  \n",
       "2014-12-31 20:00:00 2014-12-31         1              3  \n",
       "2014-12-31 21:00:00 2014-12-31         1              3  \n",
       "2014-12-31 22:00:00 2014-12-31         1              3  \n",
       "2014-12-31 23:00:00 2014-12-31         1              3  "
      ]
     },
     "execution_count": 75,
     "metadata": {},
     "output_type": "execute_result"
    }
   ],
   "source": [
    "cleaned_df.tail()"
   ]
  },
  {
   "cell_type": "code",
   "execution_count": 116,
   "id": "f476be47-ce37-41ba-9747-a2c1d04bf4b1",
   "metadata": {},
   "outputs": [],
   "source": [
    "#Convert day value to numeric value\n",
    "cleaned_df.day_week.replace([\"Monday\",\"Tuesday\",\"Wednesday\",\"Thursday\",\"Friday\",\"Saturday\",\"Sunday\"], [1,1,1,1,1,0,0], inplace=True)"
   ]
  },
  {
   "cell_type": "code",
   "execution_count": 117,
   "id": "dea81d63-b936-44f2-8797-647050a592fc",
   "metadata": {},
   "outputs": [],
   "source": [
    "cleaned_df.drop('date', inplace=True, axis=1)"
   ]
  },
  {
   "cell_type": "code",
   "execution_count": 124,
   "id": "86c69bb6-0234-4833-b7e7-475bb9df90c6",
   "metadata": {},
   "outputs": [
    {
     "data": {
      "text/html": [
       "<div>\n",
       "<style scoped>\n",
       "    .dataframe tbody tr th:only-of-type {\n",
       "        vertical-align: middle;\n",
       "    }\n",
       "\n",
       "    .dataframe tbody tr th {\n",
       "        vertical-align: top;\n",
       "    }\n",
       "\n",
       "    .dataframe thead th {\n",
       "        text-align: right;\n",
       "    }\n",
       "</style>\n",
       "<table border=\"1\" class=\"dataframe\">\n",
       "  <thead>\n",
       "    <tr style=\"text-align: right;\">\n",
       "      <th></th>\n",
       "      <th>pm2.5</th>\n",
       "      <th>DEWP</th>\n",
       "      <th>TEMP</th>\n",
       "      <th>PRES</th>\n",
       "      <th>cbwd</th>\n",
       "      <th>Iws</th>\n",
       "      <th>Is</th>\n",
       "      <th>Ir</th>\n",
       "      <th>day_week</th>\n",
       "      <th>seasonal_rate</th>\n",
       "    </tr>\n",
       "    <tr>\n",
       "      <th>Date-Time</th>\n",
       "      <th></th>\n",
       "      <th></th>\n",
       "      <th></th>\n",
       "      <th></th>\n",
       "      <th></th>\n",
       "      <th></th>\n",
       "      <th></th>\n",
       "      <th></th>\n",
       "      <th></th>\n",
       "      <th></th>\n",
       "    </tr>\n",
       "  </thead>\n",
       "  <tbody>\n",
       "    <tr>\n",
       "      <th>2010-01-01 00:00:00</th>\n",
       "      <td>73.0</td>\n",
       "      <td>-21</td>\n",
       "      <td>-11.0</td>\n",
       "      <td>1021.0</td>\n",
       "      <td>1.0</td>\n",
       "      <td>1.79</td>\n",
       "      <td>0</td>\n",
       "      <td>0</td>\n",
       "      <td>1</td>\n",
       "      <td>4</td>\n",
       "    </tr>\n",
       "    <tr>\n",
       "      <th>2010-01-01 01:00:00</th>\n",
       "      <td>73.0</td>\n",
       "      <td>-21</td>\n",
       "      <td>-12.0</td>\n",
       "      <td>1020.0</td>\n",
       "      <td>1.0</td>\n",
       "      <td>4.92</td>\n",
       "      <td>0</td>\n",
       "      <td>0</td>\n",
       "      <td>1</td>\n",
       "      <td>4</td>\n",
       "    </tr>\n",
       "    <tr>\n",
       "      <th>2010-01-01 02:00:00</th>\n",
       "      <td>73.0</td>\n",
       "      <td>-21</td>\n",
       "      <td>-11.0</td>\n",
       "      <td>1019.0</td>\n",
       "      <td>1.0</td>\n",
       "      <td>6.71</td>\n",
       "      <td>0</td>\n",
       "      <td>0</td>\n",
       "      <td>1</td>\n",
       "      <td>4</td>\n",
       "    </tr>\n",
       "    <tr>\n",
       "      <th>2010-01-01 03:00:00</th>\n",
       "      <td>73.0</td>\n",
       "      <td>-21</td>\n",
       "      <td>-14.0</td>\n",
       "      <td>1019.0</td>\n",
       "      <td>1.0</td>\n",
       "      <td>9.84</td>\n",
       "      <td>0</td>\n",
       "      <td>0</td>\n",
       "      <td>1</td>\n",
       "      <td>4</td>\n",
       "    </tr>\n",
       "    <tr>\n",
       "      <th>2010-01-01 04:00:00</th>\n",
       "      <td>73.0</td>\n",
       "      <td>-20</td>\n",
       "      <td>-12.0</td>\n",
       "      <td>1018.0</td>\n",
       "      <td>1.0</td>\n",
       "      <td>12.97</td>\n",
       "      <td>0</td>\n",
       "      <td>0</td>\n",
       "      <td>1</td>\n",
       "      <td>4</td>\n",
       "    </tr>\n",
       "  </tbody>\n",
       "</table>\n",
       "</div>"
      ],
      "text/plain": [
       "                     pm2.5  DEWP  TEMP    PRES  cbwd    Iws  Is  Ir  day_week  \\\n",
       "Date-Time                                                                       \n",
       "2010-01-01 00:00:00   73.0   -21 -11.0  1021.0   1.0   1.79   0   0         1   \n",
       "2010-01-01 01:00:00   73.0   -21 -12.0  1020.0   1.0   4.92   0   0         1   \n",
       "2010-01-01 02:00:00   73.0   -21 -11.0  1019.0   1.0   6.71   0   0         1   \n",
       "2010-01-01 03:00:00   73.0   -21 -14.0  1019.0   1.0   9.84   0   0         1   \n",
       "2010-01-01 04:00:00   73.0   -20 -12.0  1018.0   1.0  12.97   0   0         1   \n",
       "\n",
       "                     seasonal_rate  \n",
       "Date-Time                           \n",
       "2010-01-01 00:00:00              4  \n",
       "2010-01-01 01:00:00              4  \n",
       "2010-01-01 02:00:00              4  \n",
       "2010-01-01 03:00:00              4  \n",
       "2010-01-01 04:00:00              4  "
      ]
     },
     "execution_count": 124,
     "metadata": {},
     "output_type": "execute_result"
    }
   ],
   "source": [
    "cleaned_df.head()"
   ]
  },
  {
   "cell_type": "markdown",
   "id": "d43260e0-6a61-46dc-b3f1-f7ece8e8ea84",
   "metadata": {},
   "source": [
    "**XGBOOST PREDICTION MODEL**"
   ]
  },
  {
   "cell_type": "code",
   "execution_count": 300,
   "id": "84cbff2a-32ba-4870-9ba5-d6135b58faf0",
   "metadata": {},
   "outputs": [],
   "source": [
    "X = cleaned_df.iloc[:, 1:]\n",
    "y = cleaned_df.iloc[:, 0]"
   ]
  },
  {
   "cell_type": "code",
   "execution_count": 301,
   "id": "2d43038f-6095-4179-892c-7c4fd55de006",
   "metadata": {},
   "outputs": [],
   "source": [
    "#train-test split\n",
    "from sklearn.model_selection import train_test_split\n",
    "X_train, X_test, y_train, y_test = train_test_split(X, y, test_size=0.3, random_state=43)"
   ]
  },
  {
   "cell_type": "code",
   "execution_count": 314,
   "id": "21121e51-7358-461e-b801-12500d70f2cf",
   "metadata": {},
   "outputs": [
    {
     "name": "stdout",
     "output_type": "stream",
     "text": [
      "[16:17:12] WARNING: /Users/travis/build/dmlc/xgboost/src/learner.cc:573: \n",
      "Parameters: { \"silent\" } might not be used.\n",
      "\n",
      "  This may not be accurate due to some parameters are only used in language bindings but\n",
      "  passed down to XGBoost core.  Or some parameters are not used but slip through this\n",
      "  verification. Please open an issue if you find above cases.\n",
      "\n",
      "\n"
     ]
    },
    {
     "data": {
      "text/plain": [
       "XGBRegressor(base_score=0.5, booster='gbtree', colsample_bylevel=1,\n",
       "             colsample_bynode=1, colsample_bytree=0.4603, gamma=0.0468,\n",
       "             gpu_id=-1, importance_type='gain', interaction_constraints='',\n",
       "             learning_rate=0.05, max_delta_step=0, max_depth=25,\n",
       "             min_child_weight=1.7817, missing=nan, monotone_constraints='()',\n",
       "             n_estimators=100, n_jobs=8, nthread=-1, num_parallel_tree=1,\n",
       "             random_state=7, reg_alpha=0.464, reg_lambda=0.8571,\n",
       "             scale_pos_weight=1, silent=1, subsample=0.5213,\n",
       "             tree_method='exact', validate_parameters=1, verbosity=None)"
      ]
     },
     "execution_count": 314,
     "metadata": {},
     "output_type": "execute_result"
    }
   ],
   "source": [
    "from xgboost import XGBRegressor\n",
    "# Model\n",
    "\n",
    "xgb = XGBRegressor(colsample_bytree=0.4603, gamma=0.0468, \n",
    "                         learning_rate=0.05, max_depth=25, \n",
    "                         min_child_weight=1.7817, n_estimators=100,\n",
    "                         reg_alpha=0.4640, reg_lambda=0.8571,\n",
    "                         subsample=0.5213, silent=1,\n",
    "                         random_state =7, nthread = -1)\n",
    "\n",
    "xgb.fit(X_train, y_train)\n",
    "\n"
   ]
  },
  {
   "cell_type": "code",
   "execution_count": 315,
   "id": "10026bd2-2083-4e1b-948e-6d475dcff03e",
   "metadata": {},
   "outputs": [],
   "source": [
    "pred = xgb.predict(X_test)"
   ]
  },
  {
   "cell_type": "code",
   "execution_count": 316,
   "id": "af526f18-e201-4a7b-83c8-c51280672474",
   "metadata": {},
   "outputs": [
    {
     "name": "stderr",
     "output_type": "stream",
     "text": [
      "/usr/local/lib/python3.9/site-packages/seaborn/distributions.py:2557: FutureWarning: `distplot` is a deprecated function and will be removed in a future version. Please adapt your code to use either `displot` (a figure-level function with similar flexibility) or `histplot` (an axes-level function for histograms).\n",
      "  warnings.warn(msg, FutureWarning)\n"
     ]
    },
    {
     "data": {
      "text/plain": [
       "<AxesSubplot:xlabel='pm2.5', ylabel='Density'>"
      ]
     },
     "execution_count": 316,
     "metadata": {},
     "output_type": "execute_result"
    },
    {
     "data": {
      "image/png": "[encoded data removed]",
      "text/plain": [
       "<Figure size 432x288 with 1 Axes>"
      ]
     },
     "metadata": {
      "needs_background": "light"
     },
     "output_type": "display_data"
    }
   ],
   "source": [
    "import seaborn as sns\n",
    "sns.distplot(y_test - pred)"
   ]
  },
  {
   "cell_type": "code",
   "execution_count": 317,
   "id": "72bb5e2b-9a03-4461-bcba-329d07ab75bc",
   "metadata": {},
   "outputs": [
    {
     "name": "stdout",
     "output_type": "stream",
     "text": [
      "Root Mean Error: 65.8382656621441\n"
     ]
    }
   ],
   "source": [
    "from sklearn import metrics\n",
    "print(f\"Root Mean Error: {np.sqrt(metrics.mean_squared_error(y_test, pred))}\")"
   ]
  },
  {
   "cell_type": "code",
   "execution_count": 306,
   "id": "c95630a3-dc02-4566-874c-7301fe33d06a",
   "metadata": {},
   "outputs": [],
   "source": [
    "import pickle\n",
    "pickle.dump(search, open('xgb.pkl', 'wb'))"
   ]
  },
  {
   "cell_type": "code",
   "execution_count": 309,
   "id": "074a9208-d9ef-449e-8601-67501780b663",
   "metadata": {},
   "outputs": [
    {
     "data": {
      "text/plain": [
       "RandomForestRegressor(max_depth=5, max_features='sqrt', min_samples_leaf=2,\n",
       "                      n_estimators=1000)"
      ]
     },
     "execution_count": 309,
     "metadata": {},
     "output_type": "execute_result"
    }
   ],
   "source": [
    "from sklearn.ensemble import RandomForestRegressor\n",
    "forest = RandomForestRegressor(bootstrap=True, criterion='mse', max_depth=5,\n",
    "                      max_features='sqrt', max_leaf_nodes=None,\n",
    "                      min_impurity_decrease=0.0, min_impurity_split=None,\n",
    "                      min_samples_leaf=2, min_samples_split=2,\n",
    "                      min_weight_fraction_leaf=0.0, n_estimators=1000,\n",
    "                      n_jobs=None, oob_score=False, random_state=None,\n",
    "                      verbose=0, warm_start=False)\n",
    "forest.fit(X_train, y_train)"
   ]
  },
  {
   "cell_type": "code",
   "execution_count": 310,
   "id": "e2a3127f-39cb-4dea-bd66-a48aa3f19e77",
   "metadata": {},
   "outputs": [
    {
     "name": "stderr",
     "output_type": "stream",
     "text": [
      "/usr/local/lib/python3.9/site-packages/seaborn/distributions.py:2557: FutureWarning: `distplot` is a deprecated function and will be removed in a future version. Please adapt your code to use either `displot` (a figure-level function with similar flexibility) or `histplot` (an axes-level function for histograms).\n",
      "  warnings.warn(msg, FutureWarning)\n"
     ]
    },
    {
     "data": {
      "text/plain": [
       "<AxesSubplot:xlabel='pm2.5', ylabel='Density'>"
      ]
     },
     "execution_count": 310,
     "metadata": {},
     "output_type": "execute_result"
    },
    {
     "data": {
      "image/png": "[encoded data removed]",
      "text/plain": [
       "<Figure size 432x288 with 1 Axes>"
      ]
     },
     "metadata": {
      "needs_background": "light"
     },
     "output_type": "display_data"
    }
   ],
   "source": [
    "pred = forest.predict(X_test)\n",
    "sns.distplot(y_test-pred)"
   ]
  },
  {
   "cell_type": "code",
   "execution_count": 311,
   "id": "581db2ef-3d48-4524-a635-cf44891665e9",
   "metadata": {},
   "outputs": [
    {
     "name": "stdout",
     "output_type": "stream",
     "text": [
      "Root Mean Error: 74.45430231198172\n"
     ]
    }
   ],
   "source": [
    "print(f\"Root Mean Error: {np.sqrt(metrics.mean_squared_error(y_test, pred))}\")"
   ]
  },
  {
   "cell_type": "code",
   "execution_count": null,
   "id": "d5c495e5-0b92-487d-8d0f-3cc4aefb316b",
   "metadata": {},
   "outputs": [],
   "source": [
    "import pickle\n",
    "pickle.dump(search, open('random-forest.pkl', 'wb'))"
   ]
  },
  {
   "cell_type": "markdown",
   "id": "64c20de1-089d-4fa6-93d9-9debf1953846",
   "metadata": {},
   "source": [
    "**Multivariate LSTM Forecast Model**\n"
   ]
  },
  {
   "cell_type": "code",
   "execution_count": 119,
   "id": "2c289b3d-f4e0-4dcd-8e63-a8f470859aa7",
   "metadata": {},
   "outputs": [],
   "source": [
    "# prepare data for lstm\n",
    "from pandas import read_csv\n",
    "from pandas import DataFrame\n",
    "from pandas import concat\n",
    "from sklearn.preprocessing import LabelEncoder\n",
    "from sklearn.preprocessing import MinMaxScaler"
   ]
  },
  {
   "cell_type": "code",
   "execution_count": 120,
   "id": "d6aa26b5-b18a-499e-8b35-6e3bef541c6a",
   "metadata": {},
   "outputs": [],
   "source": [
    "# convert series to supervised learning\n",
    "def series_to_supervised(data, n_in=1, n_out=1, dropnan=True):\n",
    "    n_vars = 1 if type(data) is list else data.shape[1]\n",
    "    df = DataFrame(data)\n",
    "    cols, names = list(), list()\n",
    "    # input sequence (t-n, ... t-1)\n",
    "    for i in range(n_in, 0, -1):\n",
    "        cols.append(df.shift(i))\n",
    "        names += [('var%d(t-%d)' % (j+1, i)) for j in range(n_vars)]\n",
    "    # forecast sequence (t, t+1, ... t+n)\n",
    "    for i in range(0, n_out):\n",
    "        cols.append(df.shift(-i))\n",
    "        if i == 0:\n",
    "            names += [('var%d(t)' % (j+1)) for j in range(n_vars)]\n",
    "        else:\n",
    "            names += [('var%d(t+%d)' % (j+1, i)) for j in range(n_vars)]\n",
    "    # put it all together\n",
    "    agg = concat(cols, axis=1)\n",
    "    agg.columns = names\n",
    "    # drop rows with NaN values\n",
    "    if dropnan:\n",
    "        agg.dropna(inplace=True)\n",
    "    return agg"
   ]
  },
  {
   "cell_type": "code",
   "execution_count": 123,
   "id": "47730e24-34f9-469a-9060-8b7543af7cdf",
   "metadata": {},
   "outputs": [
    {
     "name": "stdout",
     "output_type": "stream",
     "text": [
      "   var1(t-1)  var2(t-1)  var3(t-1)  var4(t-1)  var5(t-1)  var6(t-1)  \\\n",
      "1   0.073441   0.279412   0.131148   0.545454   0.333333   0.002290   \n",
      "2   0.073441   0.279412   0.114754   0.527273   0.333333   0.007639   \n",
      "3   0.073441   0.279412   0.131148   0.509090   0.333333   0.010698   \n",
      "4   0.073441   0.279412   0.081967   0.509090   0.333333   0.016047   \n",
      "5   0.073441   0.294118   0.114754   0.490910   0.333333   0.021396   \n",
      "\n",
      "   var7(t-1)  var8(t-1)  var9(t-1)  var10(t-1)   var1(t)  \n",
      "1        0.0        0.0        1.0         1.0  0.073441  \n",
      "2        0.0        0.0        1.0         1.0  0.073441  \n",
      "3        0.0        0.0        1.0         1.0  0.073441  \n",
      "4        0.0        0.0        1.0         1.0  0.073441  \n",
      "5        0.0        0.0        1.0         1.0  0.073441  \n"
     ]
    }
   ],
   "source": [
    "# load dataset\n",
    "values = cleaned_df.values\n",
    "# integer encode direction\n",
    "encoder = LabelEncoder()\n",
    "values[:,4] = encoder.fit_transform(values[:,4])\n",
    "# ensure all data is float\n",
    "values = values.astype('float32')\n",
    "# normalize features\n",
    "scaler = MinMaxScaler(feature_range=(0, 1))\n",
    "scaled = scaler.fit_transform(values)\n",
    "# frame as supervised learning\n",
    "reframed = series_to_supervised(scaled, 1, 1)\n",
    "# drop columns we don't want to predict\n",
    "reframed.drop(reframed.columns[[11,12,13,14,15,16,17,18,19]], axis=1, inplace=True)\n",
    "print(reframed.head())"
   ]
  },
  {
   "cell_type": "code",
   "execution_count": 125,
   "id": "5f51b5d3-cbb1-44ac-9f21-5f377038cfea",
   "metadata": {},
   "outputs": [
    {
     "data": {
      "text/plain": [
       "43821"
      ]
     },
     "execution_count": 125,
     "metadata": {},
     "output_type": "execute_result"
    }
   ],
   "source": [
    "len(reframed)"
   ]
  },
  {
   "cell_type": "code",
   "execution_count": 152,
   "id": "37cfb00b-7bae-4378-8ff6-5e5a527cf680",
   "metadata": {},
   "outputs": [],
   "source": [
    "#import libraries\n",
    "from math import sqrt\n",
    "from numpy import concatenate\n",
    "from matplotlib import pyplot\n",
    "from pandas import read_csv\n",
    "from pandas import DataFrame\n",
    "from pandas import concat\n",
    "from sklearn.preprocessing import MinMaxScaler\n",
    "from sklearn.preprocessing import LabelEncoder\n",
    "from sklearn.metrics import mean_squared_error\n",
    "from keras.models import Sequential\n",
    "from keras.layers import Dense\n",
    "from keras.layers import LSTM\n",
    " "
   ]
  },
  {
   "cell_type": "code",
   "execution_count": 171,
   "id": "644d0cd5-cec9-4136-9a58-09e95ea90094",
   "metadata": {},
   "outputs": [
    {
     "name": "stdout",
     "output_type": "stream",
     "text": [
      "(8760, 1, 10) (8760,) (35061, 1, 10) (35061,)\n"
     ]
    }
   ],
   "source": [
    "# split into train and test sets\n",
    "values = reframed.values\n",
    "n_train_hours = 365 * 24 \n",
    "train = values[:n_train_hours, :]\n",
    "test = values[n_train_hours:, :]\n",
    "# split into input and outputs\n",
    "train_X, train_y = train[:, :-1], train[:, -1]\n",
    "test_X, test_y = test[:, :-1], test[:, -1]\n",
    "# reshape input to be 3D [samples, timesteps, features]\n",
    "train_X = train_X.reshape((train_X.shape[0], 1, train_X.shape[1]))\n",
    "test_X = test_X.reshape((test_X.shape[0], 1, test_X.shape[1]))\n",
    "print(train_X.shape, train_y.shape, test_X.shape, test_y.shape)"
   ]
  },
  {
   "cell_type": "code",
   "execution_count": 172,
   "id": "f3d54d45-0372-4fb1-8f44-bffc9d6b8d17",
   "metadata": {},
   "outputs": [
    {
     "data": {
      "text/plain": [
       "(35061, 1, 10)"
      ]
     },
     "execution_count": 172,
     "metadata": {},
     "output_type": "execute_result"
    }
   ],
   "source": [
    "test_X.shape"
   ]
  },
  {
   "cell_type": "code",
   "execution_count": 173,
   "id": "4376b30f-e442-48b4-8d82-82fc7b17beaf",
   "metadata": {},
   "outputs": [
    {
     "name": "stdout",
     "output_type": "stream",
     "text": [
      "Epoch 1/100\n",
      "122/122 - 3s - loss: 0.0491 - accuracy: 0.0000e+00 - val_loss: 0.0502 - val_accuracy: 5.7043e-05\n",
      "Epoch 2/100\n",
      "122/122 - 0s - loss: 0.0314 - accuracy: 0.0000e+00 - val_loss: 0.0409 - val_accuracy: 5.7043e-05\n",
      "Epoch 3/100\n",
      "122/122 - 0s - loss: 0.0202 - accuracy: 0.0000e+00 - val_loss: 0.0340 - val_accuracy: 5.7043e-05\n",
      "Epoch 4/100\n",
      "122/122 - 0s - loss: 0.0166 - accuracy: 0.0000e+00 - val_loss: 0.0203 - val_accuracy: 5.7043e-05\n",
      "Epoch 5/100\n",
      "122/122 - 0s - loss: 0.0152 - accuracy: 0.0000e+00 - val_loss: 0.0137 - val_accuracy: 5.7043e-05\n",
      "Epoch 6/100\n",
      "122/122 - 0s - loss: 0.0146 - accuracy: 0.0000e+00 - val_loss: 0.0129 - val_accuracy: 5.7043e-05\n",
      "Epoch 7/100\n",
      "122/122 - 1s - loss: 0.0143 - accuracy: 0.0000e+00 - val_loss: 0.0127 - val_accuracy: 5.7043e-05\n",
      "Epoch 8/100\n",
      "122/122 - 0s - loss: 0.0141 - accuracy: 0.0000e+00 - val_loss: 0.0128 - val_accuracy: 5.7043e-05\n",
      "Epoch 9/100\n",
      "122/122 - 0s - loss: 0.0150 - accuracy: 0.0000e+00 - val_loss: 0.0129 - val_accuracy: 5.7043e-05\n",
      "Epoch 10/100\n",
      "122/122 - 0s - loss: 0.0150 - accuracy: 0.0000e+00 - val_loss: 0.0127 - val_accuracy: 5.7043e-05\n",
      "Epoch 11/100\n",
      "122/122 - 1s - loss: 0.0145 - accuracy: 0.0000e+00 - val_loss: 0.0136 - val_accuracy: 5.7043e-05\n",
      "Epoch 12/100\n",
      "122/122 - 0s - loss: 0.0146 - accuracy: 0.0000e+00 - val_loss: 0.0140 - val_accuracy: 5.7043e-05\n",
      "Epoch 13/100\n",
      "122/122 - 0s - loss: 0.0144 - accuracy: 0.0000e+00 - val_loss: 0.0131 - val_accuracy: 5.7043e-05\n",
      "Epoch 14/100\n",
      "122/122 - 0s - loss: 0.0141 - accuracy: 0.0000e+00 - val_loss: 0.0146 - val_accuracy: 5.7043e-05\n",
      "Epoch 15/100\n",
      "122/122 - 0s - loss: 0.0140 - accuracy: 0.0000e+00 - val_loss: 0.0154 - val_accuracy: 5.7043e-05\n",
      "Epoch 16/100\n",
      "122/122 - 0s - loss: 0.0145 - accuracy: 0.0000e+00 - val_loss: 0.0159 - val_accuracy: 5.7043e-05\n",
      "Epoch 17/100\n",
      "122/122 - 0s - loss: 0.0145 - accuracy: 0.0000e+00 - val_loss: 0.0136 - val_accuracy: 5.7043e-05\n",
      "Epoch 18/100\n",
      "122/122 - 0s - loss: 0.0140 - accuracy: 0.0000e+00 - val_loss: 0.0134 - val_accuracy: 5.7043e-05\n",
      "Epoch 19/100\n",
      "122/122 - 0s - loss: 0.0136 - accuracy: 0.0000e+00 - val_loss: 0.0131 - val_accuracy: 5.7043e-05\n",
      "Epoch 20/100\n",
      "122/122 - 0s - loss: 0.0137 - accuracy: 0.0000e+00 - val_loss: 0.0127 - val_accuracy: 5.7043e-05\n",
      "Epoch 21/100\n",
      "122/122 - 0s - loss: 0.0136 - accuracy: 0.0000e+00 - val_loss: 0.0129 - val_accuracy: 5.7043e-05\n",
      "Epoch 22/100\n",
      "122/122 - 0s - loss: 0.0138 - accuracy: 0.0000e+00 - val_loss: 0.0139 - val_accuracy: 5.7043e-05\n",
      "Epoch 23/100\n",
      "122/122 - 0s - loss: 0.0142 - accuracy: 0.0000e+00 - val_loss: 0.0138 - val_accuracy: 5.7043e-05\n",
      "Epoch 24/100\n",
      "122/122 - 0s - loss: 0.0136 - accuracy: 0.0000e+00 - val_loss: 0.0139 - val_accuracy: 5.7043e-05\n",
      "Epoch 25/100\n",
      "122/122 - 0s - loss: 0.0143 - accuracy: 0.0000e+00 - val_loss: 0.0138 - val_accuracy: 5.7043e-05\n",
      "Epoch 26/100\n",
      "122/122 - 0s - loss: 0.0140 - accuracy: 0.0000e+00 - val_loss: 0.0145 - val_accuracy: 5.7043e-05\n",
      "Epoch 27/100\n",
      "122/122 - 0s - loss: 0.0142 - accuracy: 0.0000e+00 - val_loss: 0.0137 - val_accuracy: 5.7043e-05\n",
      "Epoch 28/100\n",
      "122/122 - 0s - loss: 0.0138 - accuracy: 0.0000e+00 - val_loss: 0.0142 - val_accuracy: 5.7043e-05\n",
      "Epoch 29/100\n",
      "122/122 - 0s - loss: 0.0143 - accuracy: 0.0000e+00 - val_loss: 0.0147 - val_accuracy: 5.7043e-05\n",
      "Epoch 30/100\n",
      "122/122 - 0s - loss: 0.0138 - accuracy: 0.0000e+00 - val_loss: 0.0137 - val_accuracy: 5.7043e-05\n",
      "Epoch 31/100\n",
      "122/122 - 0s - loss: 0.0143 - accuracy: 0.0000e+00 - val_loss: 0.0132 - val_accuracy: 5.7043e-05\n",
      "Epoch 32/100\n",
      "122/122 - 0s - loss: 0.0140 - accuracy: 0.0000e+00 - val_loss: 0.0128 - val_accuracy: 5.7043e-05\n",
      "Epoch 33/100\n",
      "122/122 - 0s - loss: 0.0136 - accuracy: 0.0000e+00 - val_loss: 0.0140 - val_accuracy: 5.7043e-05\n",
      "Epoch 34/100\n",
      "122/122 - 0s - loss: 0.0142 - accuracy: 0.0000e+00 - val_loss: 0.0149 - val_accuracy: 5.7043e-05\n",
      "Epoch 35/100\n",
      "122/122 - 0s - loss: 0.0141 - accuracy: 0.0000e+00 - val_loss: 0.0168 - val_accuracy: 5.7043e-05\n",
      "Epoch 36/100\n",
      "122/122 - 0s - loss: 0.0151 - accuracy: 0.0000e+00 - val_loss: 0.0182 - val_accuracy: 5.7043e-05\n",
      "Epoch 37/100\n",
      "122/122 - 0s - loss: 0.0150 - accuracy: 0.0000e+00 - val_loss: 0.0163 - val_accuracy: 5.7043e-05\n",
      "Epoch 38/100\n",
      "122/122 - 0s - loss: 0.0144 - accuracy: 0.0000e+00 - val_loss: 0.0154 - val_accuracy: 5.7043e-05\n",
      "Epoch 39/100\n",
      "122/122 - 0s - loss: 0.0144 - accuracy: 0.0000e+00 - val_loss: 0.0137 - val_accuracy: 5.7043e-05\n",
      "Epoch 40/100\n",
      "122/122 - 0s - loss: 0.0141 - accuracy: 0.0000e+00 - val_loss: 0.0135 - val_accuracy: 5.7043e-05\n",
      "Epoch 41/100\n",
      "122/122 - 0s - loss: 0.0142 - accuracy: 0.0000e+00 - val_loss: 0.0132 - val_accuracy: 5.7043e-05\n",
      "Epoch 42/100\n",
      "122/122 - 0s - loss: 0.0138 - accuracy: 0.0000e+00 - val_loss: 0.0127 - val_accuracy: 5.7043e-05\n",
      "Epoch 43/100\n",
      "122/122 - 0s - loss: 0.0137 - accuracy: 0.0000e+00 - val_loss: 0.0128 - val_accuracy: 5.7043e-05\n",
      "Epoch 44/100\n",
      "122/122 - 0s - loss: 0.0137 - accuracy: 0.0000e+00 - val_loss: 0.0128 - val_accuracy: 5.7043e-05\n",
      "Epoch 45/100\n",
      "122/122 - 0s - loss: 0.0137 - accuracy: 0.0000e+00 - val_loss: 0.0138 - val_accuracy: 5.7043e-05\n",
      "Epoch 46/100\n",
      "122/122 - 0s - loss: 0.0137 - accuracy: 0.0000e+00 - val_loss: 0.0138 - val_accuracy: 5.7043e-05\n",
      "Epoch 47/100\n",
      "122/122 - 0s - loss: 0.0136 - accuracy: 0.0000e+00 - val_loss: 0.0135 - val_accuracy: 5.7043e-05\n",
      "Epoch 48/100\n",
      "122/122 - 0s - loss: 0.0137 - accuracy: 0.0000e+00 - val_loss: 0.0131 - val_accuracy: 5.7043e-05\n",
      "Epoch 49/100\n",
      "122/122 - 0s - loss: 0.0136 - accuracy: 0.0000e+00 - val_loss: 0.0132 - val_accuracy: 5.7043e-05\n",
      "Epoch 50/100\n",
      "122/122 - 0s - loss: 0.0137 - accuracy: 0.0000e+00 - val_loss: 0.0131 - val_accuracy: 5.7043e-05\n",
      "Epoch 51/100\n",
      "122/122 - 0s - loss: 0.0137 - accuracy: 0.0000e+00 - val_loss: 0.0140 - val_accuracy: 5.7043e-05\n",
      "Epoch 52/100\n",
      "122/122 - 0s - loss: 0.0138 - accuracy: 0.0000e+00 - val_loss: 0.0136 - val_accuracy: 5.7043e-05\n",
      "Epoch 53/100\n",
      "122/122 - 0s - loss: 0.0138 - accuracy: 0.0000e+00 - val_loss: 0.0145 - val_accuracy: 5.7043e-05\n",
      "Epoch 54/100\n",
      "122/122 - 0s - loss: 0.0139 - accuracy: 0.0000e+00 - val_loss: 0.0156 - val_accuracy: 5.7043e-05\n",
      "Epoch 55/100\n",
      "122/122 - 0s - loss: 0.0141 - accuracy: 0.0000e+00 - val_loss: 0.0163 - val_accuracy: 5.7043e-05\n",
      "Epoch 56/100\n",
      "122/122 - 0s - loss: 0.0143 - accuracy: 0.0000e+00 - val_loss: 0.0172 - val_accuracy: 5.7043e-05\n",
      "Epoch 57/100\n",
      "122/122 - 0s - loss: 0.0145 - accuracy: 0.0000e+00 - val_loss: 0.0149 - val_accuracy: 5.7043e-05\n",
      "Epoch 58/100\n",
      "122/122 - 0s - loss: 0.0142 - accuracy: 0.0000e+00 - val_loss: 0.0139 - val_accuracy: 5.7043e-05\n",
      "Epoch 59/100\n",
      "122/122 - 0s - loss: 0.0140 - accuracy: 0.0000e+00 - val_loss: 0.0138 - val_accuracy: 5.7043e-05\n",
      "Epoch 60/100\n",
      "122/122 - 0s - loss: 0.0139 - accuracy: 0.0000e+00 - val_loss: 0.0136 - val_accuracy: 5.7043e-05\n",
      "Epoch 61/100\n",
      "122/122 - 0s - loss: 0.0139 - accuracy: 0.0000e+00 - val_loss: 0.0135 - val_accuracy: 5.7043e-05\n",
      "Epoch 62/100\n",
      "122/122 - 0s - loss: 0.0139 - accuracy: 0.0000e+00 - val_loss: 0.0133 - val_accuracy: 5.7043e-05\n",
      "Epoch 63/100\n",
      "122/122 - 0s - loss: 0.0139 - accuracy: 0.0000e+00 - val_loss: 0.0132 - val_accuracy: 5.7043e-05\n",
      "Epoch 64/100\n",
      "122/122 - 0s - loss: 0.0139 - accuracy: 0.0000e+00 - val_loss: 0.0132 - val_accuracy: 5.7043e-05\n",
      "Epoch 65/100\n",
      "122/122 - 0s - loss: 0.0139 - accuracy: 0.0000e+00 - val_loss: 0.0133 - val_accuracy: 5.7043e-05\n",
      "Epoch 66/100\n",
      "122/122 - 0s - loss: 0.0140 - accuracy: 0.0000e+00 - val_loss: 0.0133 - val_accuracy: 5.7043e-05\n",
      "Epoch 67/100\n",
      "122/122 - 0s - loss: 0.0143 - accuracy: 0.0000e+00 - val_loss: 0.0135 - val_accuracy: 5.7043e-05\n",
      "Epoch 68/100\n",
      "122/122 - 0s - loss: 0.0142 - accuracy: 0.0000e+00 - val_loss: 0.0134 - val_accuracy: 5.7043e-05\n",
      "Epoch 69/100\n",
      "122/122 - 0s - loss: 0.0142 - accuracy: 0.0000e+00 - val_loss: 0.0136 - val_accuracy: 5.7043e-05\n",
      "Epoch 70/100\n",
      "122/122 - 0s - loss: 0.0142 - accuracy: 0.0000e+00 - val_loss: 0.0140 - val_accuracy: 5.7043e-05\n",
      "Epoch 71/100\n",
      "122/122 - 0s - loss: 0.0141 - accuracy: 0.0000e+00 - val_loss: 0.0134 - val_accuracy: 5.7043e-05\n",
      "Epoch 72/100\n",
      "122/122 - 0s - loss: 0.0142 - accuracy: 0.0000e+00 - val_loss: 0.0134 - val_accuracy: 5.7043e-05\n",
      "Epoch 73/100\n",
      "122/122 - 0s - loss: 0.0141 - accuracy: 0.0000e+00 - val_loss: 0.0132 - val_accuracy: 5.7043e-05\n",
      "Epoch 74/100\n",
      "122/122 - 0s - loss: 0.0140 - accuracy: 0.0000e+00 - val_loss: 0.0131 - val_accuracy: 5.7043e-05\n",
      "Epoch 75/100\n",
      "122/122 - 0s - loss: 0.0141 - accuracy: 0.0000e+00 - val_loss: 0.0132 - val_accuracy: 5.7043e-05\n",
      "Epoch 76/100\n",
      "122/122 - 0s - loss: 0.0144 - accuracy: 0.0000e+00 - val_loss: 0.0131 - val_accuracy: 5.7043e-05\n",
      "Epoch 77/100\n",
      "122/122 - 0s - loss: 0.0138 - accuracy: 0.0000e+00 - val_loss: 0.0128 - val_accuracy: 5.7043e-05\n",
      "Epoch 78/100\n",
      "122/122 - 0s - loss: 0.0140 - accuracy: 0.0000e+00 - val_loss: 0.0136 - val_accuracy: 5.7043e-05\n",
      "Epoch 79/100\n",
      "122/122 - 0s - loss: 0.0141 - accuracy: 0.0000e+00 - val_loss: 0.0140 - val_accuracy: 5.7043e-05\n",
      "Epoch 80/100\n",
      "122/122 - 0s - loss: 0.0143 - accuracy: 0.0000e+00 - val_loss: 0.0131 - val_accuracy: 5.7043e-05\n",
      "Epoch 81/100\n",
      "122/122 - 0s - loss: 0.0137 - accuracy: 0.0000e+00 - val_loss: 0.0128 - val_accuracy: 5.7043e-05\n",
      "Epoch 82/100\n",
      "122/122 - 0s - loss: 0.0142 - accuracy: 0.0000e+00 - val_loss: 0.0134 - val_accuracy: 5.7043e-05\n",
      "Epoch 83/100\n",
      "122/122 - 0s - loss: 0.0141 - accuracy: 0.0000e+00 - val_loss: 0.0130 - val_accuracy: 5.7043e-05\n",
      "Epoch 84/100\n",
      "122/122 - 0s - loss: 0.0137 - accuracy: 0.0000e+00 - val_loss: 0.0128 - val_accuracy: 5.7043e-05\n",
      "Epoch 85/100\n",
      "122/122 - 0s - loss: 0.0138 - accuracy: 0.0000e+00 - val_loss: 0.0132 - val_accuracy: 5.7043e-05\n",
      "Epoch 86/100\n",
      "122/122 - 0s - loss: 0.0141 - accuracy: 0.0000e+00 - val_loss: 0.0139 - val_accuracy: 5.7043e-05\n",
      "Epoch 87/100\n",
      "122/122 - 0s - loss: 0.0143 - accuracy: 0.0000e+00 - val_loss: 0.0129 - val_accuracy: 5.7043e-05\n",
      "Epoch 88/100\n",
      "122/122 - 0s - loss: 0.0137 - accuracy: 0.0000e+00 - val_loss: 0.0128 - val_accuracy: 5.7043e-05\n",
      "Epoch 89/100\n",
      "122/122 - 0s - loss: 0.0139 - accuracy: 0.0000e+00 - val_loss: 0.0128 - val_accuracy: 5.7043e-05\n",
      "Epoch 90/100\n",
      "122/122 - 0s - loss: 0.0136 - accuracy: 0.0000e+00 - val_loss: 0.0128 - val_accuracy: 5.7043e-05\n",
      "Epoch 91/100\n",
      "122/122 - 0s - loss: 0.0137 - accuracy: 0.0000e+00 - val_loss: 0.0129 - val_accuracy: 5.7043e-05\n",
      "Epoch 92/100\n",
      "122/122 - 0s - loss: 0.0137 - accuracy: 0.0000e+00 - val_loss: 0.0133 - val_accuracy: 5.7043e-05\n",
      "Epoch 93/100\n",
      "122/122 - 0s - loss: 0.0140 - accuracy: 0.0000e+00 - val_loss: 0.0136 - val_accuracy: 5.7043e-05\n",
      "Epoch 94/100\n",
      "122/122 - 0s - loss: 0.0140 - accuracy: 0.0000e+00 - val_loss: 0.0128 - val_accuracy: 5.7043e-05\n",
      "Epoch 95/100\n",
      "122/122 - 0s - loss: 0.0136 - accuracy: 0.0000e+00 - val_loss: 0.0126 - val_accuracy: 5.7043e-05\n",
      "Epoch 96/100\n",
      "122/122 - 0s - loss: 0.0137 - accuracy: 0.0000e+00 - val_loss: 0.0133 - val_accuracy: 5.7043e-05\n",
      "Epoch 97/100\n",
      "122/122 - 0s - loss: 0.0140 - accuracy: 0.0000e+00 - val_loss: 0.0142 - val_accuracy: 5.7043e-05\n",
      "Epoch 98/100\n",
      "122/122 - 0s - loss: 0.0141 - accuracy: 0.0000e+00 - val_loss: 0.0128 - val_accuracy: 5.7043e-05\n",
      "Epoch 99/100\n",
      "122/122 - 0s - loss: 0.0136 - accuracy: 0.0000e+00 - val_loss: 0.0127 - val_accuracy: 5.7043e-05\n",
      "Epoch 100/100\n",
      "122/122 - 0s - loss: 0.0137 - accuracy: 0.0000e+00 - val_loss: 0.0132 - val_accuracy: 5.7043e-05\n"
     ]
    },
    {
     "data": {
      "image/png": "[encoded data removed]",
      "text/plain": [
       "<Figure size 432x288 with 1 Axes>"
      ]
     },
     "metadata": {
      "needs_background": "light"
     },
     "output_type": "display_data"
    }
   ],
   "source": [
    "from keras.models import Sequential\n",
    "from keras.layers import Dense\n",
    "from keras.layers import LSTM\n",
    "\n",
    "# design network\n",
    "model = Sequential()\n",
    "model.add(LSTM(100, input_shape=(train_X.shape[1], train_X.shape[2])))\n",
    "model.add(Dense(1))\n",
    "model.compile(loss='mae', optimizer='adam', metrics=[\"accuracy\"])\n",
    "# fit network\n",
    "history = model.fit(train_X, train_y, epochs=100, batch_size=72, validation_data=(test_X, test_y), verbose=2, shuffle=False)\n",
    "# plot history\n",
    "pyplot.plot(history.history['loss'], label='train')\n",
    "pyplot.plot(history.history['val_loss'], label='test')\n",
    "pyplot.legend()\n",
    "pyplot.show()"
   ]
  },
  {
   "cell_type": "code",
   "execution_count": 174,
   "id": "b9f73f0b-5932-454f-9821-66685abe4a64",
   "metadata": {},
   "outputs": [
    {
     "name": "stdout",
     "output_type": "stream",
     "text": [
      "Test RMSE: 23.484\n"
     ]
    }
   ],
   "source": [
    "# make a prediction\n",
    "yhat = model.predict(test_X)\n",
    "test_X = test_X.reshape((test_X.shape[0], test_X.shape[2]))\n",
    "# invert scaling for forecast\n",
    "inv_yhat = concatenate((yhat, test_X[:, 1:]), axis=1)\n",
    "inv_yhat = scaler.inverse_transform(inv_yhat)\n",
    "inv_yhat = inv_yhat[:,0]\n",
    "# invert scaling for actual\n",
    "test_y = test_y.reshape((len(test_y), 1))\n",
    "inv_y = concatenate((test_y, test_X[:, 1:]), axis=1)\n",
    "inv_y = scaler.inverse_transform(inv_y)\n",
    "inv_y = inv_y[:,0]\n",
    "# calculate RMSE\n",
    "rmse = sqrt(mean_squared_error(inv_y, inv_yhat))\n",
    "print('Test RMSE: %.3f' % rmse)"
   ]
  },
  {
   "cell_type": "code",
   "execution_count": null,
   "id": "fe5f59d2-8fe3-4753-b1d6-66aa389fe42c",
   "metadata": {},
   "outputs": [],
   "source": [
    "#save model\n",
    "model.save('lstm_model.h5')"
   ]
  },
  {
   "cell_type": "markdown",
   "id": "af485c2f-4aea-4d88-8057-d5f17f3734eb",
   "metadata": {},
   "source": [
    "**Comments**"
   ]
  },
  {
   "cell_type": "markdown",
   "id": "6cf4cb54-7aa7-493f-a22f-ceeaa311effd",
   "metadata": {},
   "source": [
    "*Root Mean Square Error of Random Forest Regressor:* 74.45430231198172\n",
    "| *Root Mean Square Error of XGBOOST Regressor:* 65.8382656621441\n",
    "| *Root Mean Square Error of LSTM Sequential Model:* 23.484\n",
    "\n",
    "Best model is LSTM model. Because I convert the dataset to time series version based on multivarible and use a Sequential model on it. XGBOOST and Random Forest Regressor models errors must be less than above values. One of the reasons is XGBOOST is a Gradient boosting algorithm. So, Gradient boosting can be used to minimize any sensible loss function, and it is very effective in doing it. In addition, for XGBOOST and Random Forest Regressor models with hyperparemeter tuning, parameter values can be improved and better results can be obtained.\n",
    "\n",
    "Also lstm model can be improved based on optimizer, more epochs and decreasing loss value of each iteration. I think RMSE value can be decreased around  10.0 - 20.0 values with the help of optimizations and better models."
   ]
  },
  {
   "cell_type": "code",
   "execution_count": null,
   "id": "cd6233e2-a8be-481e-9cdd-584a601ac9af",
   "metadata": {},
   "outputs": [],
   "source": []
  }
 ],
 "metadata": {
  "kernelspec": {
   "display_name": "Python 3",
   "language": "python",
   "name": "python3"
  },
  "language_info": {
   "codemirror_mode": {
    "name": "ipython",
    "version": 3
   },
   "file_extension": ".py",
   "mimetype": "text/x-python",
   "name": "python",
   "nbconvert_exporter": "python",
   "pygments_lexer": "ipython3",
   "version": "3.9.2"
  }
 },
 "nbformat": 4,
 "nbformat_minor": 5
}
